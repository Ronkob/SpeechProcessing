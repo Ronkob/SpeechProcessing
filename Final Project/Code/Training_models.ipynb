{
 "cells": [
  {
   "cell_type": "code",
   "execution_count": null,
   "outputs": [],
   "source": [
    "from google.colab import drive\n",
    "drive.mount('/content/drive')"
   ],
   "metadata": {
    "collapsed": false
   }
  },
  {
   "cell_type": "code",
   "execution_count": null,
   "outputs": [],
   "source": [
    "%cd /content/drive/MyDrive/SPEECH/Code"
   ],
   "metadata": {
    "collapsed": false
   }
  },
  {
   "cell_type": "code",
   "execution_count": null,
   "outputs": [],
   "source": [
    "!pip install wandb\n",
    "!pip install jiwer"
   ],
   "metadata": {
    "collapsed": false
   }
  },
  {
   "cell_type": "markdown",
   "source": [
    "This is the main part of the code. It makes models by phases"
   ],
   "metadata": {
    "collapsed": false
   }
  },
  {
   "cell_type": "code",
   "execution_count": 1,
   "outputs": [],
   "source": [
    "from dataclasses import dataclass\n",
    "\n",
    "import PreProcessing, PhaseOneModel, PhaseTwoModel, PhaseThreeModel, Evaluating\n",
    "import torch\n",
    "import wandb"
   ],
   "metadata": {
    "collapsed": false,
    "ExecuteTime": {
     "end_time": "2023-08-21T16:21:21.020708600Z",
     "start_time": "2023-08-21T16:21:11.418237700Z"
    }
   }
  },
  {
   "cell_type": "code",
   "execution_count": 2,
   "outputs": [],
   "source": [
    "@dataclass\n",
    "class Config:\n",
    "    learning_rate: float = 0.01\n",
    "    epochs: int = 300\n",
    "    batch_size: int = 4\n",
    "    wandb_init: bool = False\n",
    "\n",
    "    hyperparams = {\n",
    "        \"n_cnn_layers\": 3,\n",
    "        \"n_rnn_layers\": 5,\n",
    "        \"rnn_dim\": 512,\n",
    "        \"n_class\": 28,\n",
    "        \"n_feats\": 13,\n",
    "        \"stride\": 2,\n",
    "        \"dropout\": 0.1,\n",
    "    }"
   ],
   "metadata": {
    "collapsed": false,
    "ExecuteTime": {
     "end_time": "2023-08-21T16:21:21.035962200Z",
     "start_time": "2023-08-21T16:21:21.031881400Z"
    }
   }
  },
  {
   "cell_type": "code",
   "execution_count": 3,
   "outputs": [],
   "source": [
    "\n",
    "def run_phase(PhaseNumber, phase_model_class, config=None):\n",
    "    device = torch.device(\"cuda\" if torch.cuda.is_available() else \"cpu\")\n",
    "    print(\"Using {} device\".format(device))\n",
    "    architecture = PhaseNumber + 'Model'\n",
    "    # turn on and off wandb logging\n",
    "    # start a new wandb run to track this script\n",
    "    if config.wandb_init:\n",
    "        wandb.init(\n",
    "            # set the wandb project where this run will be logged\n",
    "            project=\"speechRecProj\",\n",
    "\n",
    "            # track hyperparameters and run metadata\n",
    "            config={\n",
    "                \"learning_rate\": config.learning_rate,\n",
    "                \"architecture\": architecture,\n",
    "                \"epochs\": config.epochs,\n",
    "                \"batch_size\": config.batch_size,\n",
    "            }\n",
    "        )\n",
    "\n",
    "    wavs, txts = PreProcessing.load_data(mode='train', data_path=PreProcessing.DATA_PATH)\n",
    "\n",
    "    # Now you can create a Dataset and DataLoader for your data\n",
    "    dataset = PreProcessing.AudioDatasetV3(wavs, txts)\n",
    "    train_dataloader = torch.utils.data.DataLoader(dataset, batch_size=config.batch_size,\n",
    "                                                   collate_fn=lambda x:\n",
    "                                                   PreProcessing.process_data(x))\n",
    "    # batch size\n",
    "\n",
    "    # wavs, txts = PreProcessing.load_data(mode='test', data_path=PreProcessing.DATA_PATH)\n",
    "    # test_dataset = PreProcessing.AudioDataset(wavs, txts)\n",
    "    # test_dataloader = torch.utils.data.DataLoader(test_dataset, batch_size=config.batch_size)\n",
    "\n",
    "    model = PhaseThreeModel.PhaseThreeModel(config,\n",
    "                                            n_cnn_layers=config.hyperparams['n_cnn_layers'],\n",
    "                                            n_rnn_layers= config.hyperparams['n_rnn_layers'],\n",
    "                                            rnn_dim= config.hyperparams['rnn_dim'],\n",
    "                                            n_class= config.hyperparams['n_class'],\n",
    "                                            n_feats= config.hyperparams['n_feats'],\n",
    "                                            stride= config.hyperparams['stride'],\n",
    "                                            dropout= config.hyperparams['dropout'],\n",
    "                                            )\n",
    "    PhaseThreeModel.train_model_phase_three(model, train_dataloader, device=device, test_dataloader=None, config=config)\n",
    "    # Evaluating.evaluate_model(model, test_dataloader)"
   ],
   "metadata": {
    "collapsed": false,
    "ExecuteTime": {
     "end_time": "2023-08-21T16:21:21.089356Z",
     "start_time": "2023-08-21T16:21:21.038961400Z"
    }
   }
  },
  {
   "cell_type": "code",
   "execution_count": null,
   "outputs": [],
   "source": [
    "%%javascript\n",
    "function ClickConnect(){\n",
    "console.log(\"Working\");\n",
    "document.querySelector(\"colab-toolbar-button#connect\").click()\n",
    "}setInterval(ClickConnect,60000)"
   ],
   "metadata": {
    "collapsed": false
   }
  },
  {
   "cell_type": "code",
   "execution_count": 7,
   "outputs": [
    {
     "ename": "KeyboardInterrupt",
     "evalue": "",
     "output_type": "error",
     "traceback": [
      "\u001B[1;31m---------------------------------------------------------------------------\u001B[0m",
      "\u001B[1;31mKeyboardInterrupt\u001B[0m                         Traceback (most recent call last)",
      "Input \u001B[1;32mIn [7]\u001B[0m, in \u001B[0;36m<cell line: 1>\u001B[1;34m()\u001B[0m\n\u001B[1;32m----> 1\u001B[0m run_phase(\u001B[38;5;124m\"\u001B[39m\u001B[38;5;124mPhaseThree\u001B[39m\u001B[38;5;124m\"\u001B[39m, PhaseThreeModel\u001B[38;5;241m.\u001B[39mPhaseThreeModel, config\u001B[38;5;241m=\u001B[39mConfig(wandb_init\u001B[38;5;241m=\u001B[39m\u001B[38;5;28;01mFalse\u001B[39;00m))\n",
      "File \u001B[1;32m~\\Documents\\ACADEMY\\6th semester\\Speech Processing\\SPEECH\\Ex3\\digits_classifier.py:19\u001B[0m, in \u001B[0;36mmeasure_time.<locals>.wrapper\u001B[1;34m(*args, **kwargs)\u001B[0m\n\u001B[0;32m     17\u001B[0m \u001B[38;5;28;01mdef\u001B[39;00m \u001B[38;5;21mwrapper\u001B[39m(\u001B[38;5;241m*\u001B[39margs, \u001B[38;5;241m*\u001B[39m\u001B[38;5;241m*\u001B[39mkwargs):\n\u001B[0;32m     18\u001B[0m     start_time \u001B[38;5;241m=\u001B[39m time\u001B[38;5;241m.\u001B[39mtime()\n\u001B[1;32m---> 19\u001B[0m     ret \u001B[38;5;241m=\u001B[39m \u001B[43mfunc\u001B[49m\u001B[43m(\u001B[49m\u001B[38;5;241;43m*\u001B[39;49m\u001B[43margs\u001B[49m\u001B[43m,\u001B[49m\u001B[43m \u001B[49m\u001B[38;5;241;43m*\u001B[39;49m\u001B[38;5;241;43m*\u001B[39;49m\u001B[43mkwargs\u001B[49m\u001B[43m)\u001B[49m\n\u001B[0;32m     20\u001B[0m     end_time \u001B[38;5;241m=\u001B[39m time\u001B[38;5;241m.\u001B[39mtime()\n\u001B[0;32m     21\u001B[0m     \u001B[38;5;66;03m# prints the time in minutes and seconds and to the 3rd digit after the dot\u001B[39;00m\n",
      "Input \u001B[1;32mIn [3]\u001B[0m, in \u001B[0;36mrun_phase\u001B[1;34m(PhaseNumber, phase_model_class, config)\u001B[0m\n\u001B[0;32m      6\u001B[0m \u001B[38;5;28;01mif\u001B[39;00m config\u001B[38;5;241m.\u001B[39mwandb_init:\n\u001B[0;32m      7\u001B[0m     wandb\u001B[38;5;241m.\u001B[39minit(\n\u001B[0;32m      8\u001B[0m         \u001B[38;5;66;03m# set the wandb project where this run will be logged\u001B[39;00m\n\u001B[0;32m      9\u001B[0m         project\u001B[38;5;241m=\u001B[39m\u001B[38;5;124m\"\u001B[39m\u001B[38;5;124mspeechRecProj\u001B[39m\u001B[38;5;124m\"\u001B[39m,\n\u001B[1;32m   (...)\u001B[0m\n\u001B[0;32m     17\u001B[0m         }\n\u001B[0;32m     18\u001B[0m     )\n\u001B[1;32m---> 20\u001B[0m wavs, txts \u001B[38;5;241m=\u001B[39m \u001B[43mPreProcessing\u001B[49m\u001B[38;5;241;43m.\u001B[39;49m\u001B[43mload_data\u001B[49m\u001B[43m(\u001B[49m\u001B[43mmode\u001B[49m\u001B[38;5;241;43m=\u001B[39;49m\u001B[38;5;124;43m'\u001B[39;49m\u001B[38;5;124;43mtrain\u001B[39;49m\u001B[38;5;124;43m'\u001B[39;49m\u001B[43m,\u001B[49m\u001B[43m \u001B[49m\u001B[43mdata_path\u001B[49m\u001B[38;5;241;43m=\u001B[39;49m\u001B[43mPreProcessing\u001B[49m\u001B[38;5;241;43m.\u001B[39;49m\u001B[43mDATA_PATH\u001B[49m\u001B[43m)\u001B[49m\n\u001B[0;32m     22\u001B[0m \u001B[38;5;66;03m# Now you can create a Dataset and DataLoader for your data\u001B[39;00m\n\u001B[0;32m     23\u001B[0m dataset \u001B[38;5;241m=\u001B[39m PreProcessing\u001B[38;5;241m.\u001B[39mAudioDatasetV3(wavs, txts)\n",
      "File \u001B[1;32m~\\Documents\\ACADEMY\\6th semester\\Speech Processing\\SPEECH\\Final Project\\Code\\PreProcessing.py:149\u001B[0m, in \u001B[0;36mload_data\u001B[1;34m(mode, data_path)\u001B[0m\n\u001B[0;32m    147\u001B[0m \u001B[38;5;28;01mfor\u001B[39;00m txt_file \u001B[38;5;129;01min\u001B[39;00m txt_files:\n\u001B[0;32m    148\u001B[0m     txt \u001B[38;5;241m=\u001B[39m \u001B[38;5;28mopen\u001B[39m(data_path \u001B[38;5;241m+\u001B[39m \u001B[38;5;124m'\u001B[39m\u001B[38;5;124mtxt/\u001B[39m\u001B[38;5;124m'\u001B[39m \u001B[38;5;241m+\u001B[39m txt_file, \u001B[38;5;124m'\u001B[39m\u001B[38;5;124mr\u001B[39m\u001B[38;5;124m'\u001B[39m)\n\u001B[1;32m--> 149\u001B[0m     label \u001B[38;5;241m=\u001B[39m \u001B[43mtxt\u001B[49m\u001B[38;5;241;43m.\u001B[39;49m\u001B[43mreadline\u001B[49m()\n\u001B[0;32m    150\u001B[0m     txts\u001B[38;5;241m.\u001B[39mappend(label)\n\u001B[0;32m    152\u001B[0m \u001B[38;5;28;01mreturn\u001B[39;00m wavs, txts\n",
      "\u001B[1;31mKeyboardInterrupt\u001B[0m: "
     ]
    }
   ],
   "source": [
    "run_phase(\"PhaseThree\", PhaseThreeModel.PhaseThreeModel, config=Config(wandb_init=False))"
   ],
   "metadata": {
    "collapsed": false,
    "ExecuteTime": {
     "end_time": "2023-08-21T17:19:33.614827400Z",
     "start_time": "2023-08-21T17:19:26.845675700Z"
    }
   }
  },
  {
   "cell_type": "code",
   "execution_count": null,
   "outputs": [],
   "source": [],
   "metadata": {
    "collapsed": false
   }
  }
 ],
 "metadata": {
  "kernelspec": {
   "display_name": "Python 3",
   "language": "python",
   "name": "python3"
  },
  "language_info": {
   "codemirror_mode": {
    "name": "ipython",
    "version": 2
   },
   "file_extension": ".py",
   "mimetype": "text/x-python",
   "name": "python",
   "nbconvert_exporter": "python",
   "pygments_lexer": "ipython2",
   "version": "2.7.6"
  }
 },
 "nbformat": 4,
 "nbformat_minor": 0
}
