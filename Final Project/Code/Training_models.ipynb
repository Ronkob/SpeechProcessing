{
 "cells": [
  {
   "cell_type": "code",
   "execution_count": null,
   "outputs": [],
   "source": [
    "from google.colab import drive\n",
    "drive.mount('/content/drive')"
   ],
   "metadata": {
    "collapsed": false
   }
  },
  {
   "cell_type": "code",
   "execution_count": null,
   "outputs": [],
   "source": [
    "%cd /content/drive/MyDrive/SPEECH/Code"
   ],
   "metadata": {
    "collapsed": false
   }
  },
  {
   "cell_type": "code",
   "execution_count": null,
   "outputs": [],
   "source": [
    "!pip install wandb\n",
    "!pip install jiwer"
   ],
   "metadata": {
    "collapsed": false
   }
  },
  {
   "cell_type": "markdown",
   "source": [
    "This is the main part of the code. It makes models by phases"
   ],
   "metadata": {
    "collapsed": false
   }
  },
  {
   "cell_type": "code",
   "execution_count": 1,
   "outputs": [],
   "source": [
    "from dataclasses import dataclass\n",
    "\n",
    "import PreProcessing, PhaseOneModel, PhaseTwoModel, PhaseThreeModel, Evaluating\n",
    "import torch\n",
    "import wandb\n",
    "from Ex3.digits_classifier import measure_time"
   ],
   "metadata": {
    "collapsed": false,
    "ExecuteTime": {
     "end_time": "2023-08-21T16:21:21.020708600Z",
     "start_time": "2023-08-21T16:21:11.418237700Z"
    }
   }
  },
  {
   "cell_type": "code",
   "execution_count": 2,
   "outputs": [],
   "source": [
    "@dataclass\n",
    "class Config:\n",
    "    learning_rate: float = 0.01\n",
    "    epochs: int = 300\n",
    "    batch_size: int = 4\n",
    "    wandb_init: bool = False\n",
    "\n",
    "    hyperparams = {\n",
    "        \"n_cnn_layers\": 3,\n",
    "        \"n_rnn_layers\": 5,\n",
    "        \"rnn_dim\": 512,\n",
    "        \"n_class\": 28,\n",
    "        \"n_feats\": 13,\n",
    "        \"stride\": 2,\n",
    "        \"dropout\": 0.1,\n",
    "    }"
   ],
   "metadata": {
    "collapsed": false,
    "ExecuteTime": {
     "end_time": "2023-08-21T16:21:21.035962200Z",
     "start_time": "2023-08-21T16:21:21.031881400Z"
    }
   }
  },
  {
   "cell_type": "code",
   "execution_count": 3,
   "outputs": [],
   "source": [
    "\n",
    "@measure_time\n",
    "def run_phase(PhaseNumber, phase_model_class, config=None):\n",
    "    architecture = PhaseNumber + 'Model'\n",
    "    # turn on and off wandb logging\n",
    "    # start a new wandb run to track this script\n",
    "    if config.wandb_init:\n",
    "        wandb.init(\n",
    "            # set the wandb project where this run will be logged\n",
    "            project=\"speechRecProj\",\n",
    "\n",
    "            # track hyperparameters and run metadata\n",
    "            config={\n",
    "                \"learning_rate\": config.learning_rate,\n",
    "                \"architecture\": architecture,\n",
    "                \"epochs\": config.epochs,\n",
    "                \"batch_size\": config.batch_size,\n",
    "            }\n",
    "        )\n",
    "\n",
    "    wavs, txts = PreProcessing.load_data(mode='train', data_path=PreProcessing.DATA_PATH)\n",
    "\n",
    "    # Now you can create a Dataset and DataLoader for your data\n",
    "    dataset = PreProcessing.AudioDatasetV3(wavs, txts)\n",
    "    train_dataloader = torch.utils.data.DataLoader(dataset, batch_size=config.batch_size,\n",
    "                                                   collate_fn=lambda x:\n",
    "                                                   PreProcessing.process_data(x))\n",
    "    # batch size\n",
    "\n",
    "    # wavs, txts = PreProcessing.load_data(mode='test', data_path=PreProcessing.DATA_PATH)\n",
    "    # test_dataset = PreProcessing.AudioDataset(wavs, txts)\n",
    "    # test_dataloader = torch.utils.data.DataLoader(test_dataset, batch_size=config.batch_size)\n",
    "\n",
    "    model = PhaseThreeModel.PhaseThreeModel(config,\n",
    "                                            n_cnn_layers=config.hyperparams['n_cnn_layers'],\n",
    "                                            n_rnn_layers= config.hyperparams['n_rnn_layers'],\n",
    "                                            rnn_dim= config.hyperparams['rnn_dim'],\n",
    "                                            n_class= config.hyperparams['n_class'],\n",
    "                                            n_feats= config.hyperparams['n_feats'],\n",
    "                                            stride= config.hyperparams['stride'],\n",
    "                                            dropout= config.hyperparams['dropout'],\n",
    "                                            )\n",
    "    PhaseThreeModel.train_model_phase_three(model, train_dataloader, test_dataloader=None, config=config)\n",
    "    # Evaluating.evaluate_model(model, test_dataloader)"
   ],
   "metadata": {
    "collapsed": false,
    "ExecuteTime": {
     "end_time": "2023-08-21T16:21:21.089356Z",
     "start_time": "2023-08-21T16:21:21.038961400Z"
    }
   }
  },
  {
   "cell_type": "code",
   "execution_count": null,
   "outputs": [],
   "source": [
    "%%javascript\n",
    "function ClickConnect(){\n",
    "console.log(\"Working\");\n",
    "document.querySelector(\"colab-toolbar-button#connect\").click()\n",
    "}setInterval(ClickConnect,60000)"
   ],
   "metadata": {
    "collapsed": false
   }
  },
  {
   "cell_type": "code",
   "execution_count": 4,
   "outputs": [
    {
     "name": "stdout",
     "output_type": "stream",
     "text": [
      "Epoch:  0 / 300  ( 0.0 %)\n",
      "Model Output:  qoqrqoqxroqoooqrqnoooqqqvxuqonnqrlrzrqobqoq aaqqooqbqqqxqqoq oqqannnnqrnooxaqxqqqqnqqqqqqqoqxootooaooaqqqqboqqqorrrobqooonnonqoqnonooxqnnnrnanuqqnrxyoaonro nnbontnqrarrtoqrrb uqqovrdrxqrttottry bratxrooht ryxrhqqq qqqorrrtxrb brto ohqtqrqqqorwoootbob orrrrqqqqorvqqotrotrtrtrqbd yyaqqoq rbhdotbttrrqhqohtqrqorrrqqraobqrr qqrqroqtduqrqbqrqqtrrrq  qrnqoqlrhobooqa  bdtoqqoortoqhooto ytq\n",
      "Model Prediction:  (['oqnqnlrnqnoqnxoqo ororoqoqrqoaqrxtaqbqxoxbaqrqoqnonqoqnauqoqtoaqtbqtoqoqxqlnorqoqhq qoqvqorornaqnronqnqrqorqonraoaralroqornqoqobrhory r q droqrqdqortlolbabty otrobroqy qhbtqolrhrtrkv brxtqd xrhrxbqxqr rtqrqazhyqoroqlybrt qhtqtota y qtodqtorqtqltrq vtotqyrqyrhbrqhrnrybqbqrqoxrtrtqrhqrqrqro tqtrt roqytorqtqrkortbqroqtoq'], ['wzhzrhwsxznmd'])\n"
     ]
    },
    {
     "ename": "KeyboardInterrupt",
     "evalue": "",
     "output_type": "error",
     "traceback": [
      "\u001B[1;31m---------------------------------------------------------------------------\u001B[0m",
      "\u001B[1;31mKeyboardInterrupt\u001B[0m                         Traceback (most recent call last)",
      "Input \u001B[1;32mIn [4]\u001B[0m, in \u001B[0;36m<cell line: 1>\u001B[1;34m()\u001B[0m\n\u001B[1;32m----> 1\u001B[0m run_phase(\u001B[38;5;124m\"\u001B[39m\u001B[38;5;124mPhaseThree\u001B[39m\u001B[38;5;124m\"\u001B[39m, PhaseThreeModel\u001B[38;5;241m.\u001B[39mPhaseThreeModel, config\u001B[38;5;241m=\u001B[39mConfig(wandb_init\u001B[38;5;241m=\u001B[39m\u001B[38;5;28;01mFalse\u001B[39;00m))\n",
      "File \u001B[1;32m~\\Documents\\ACADEMY\\6th semester\\Speech Processing\\SPEECH\\Ex3\\digits_classifier.py:19\u001B[0m, in \u001B[0;36mmeasure_time.<locals>.wrapper\u001B[1;34m(*args, **kwargs)\u001B[0m\n\u001B[0;32m     17\u001B[0m \u001B[38;5;28;01mdef\u001B[39;00m \u001B[38;5;21mwrapper\u001B[39m(\u001B[38;5;241m*\u001B[39margs, \u001B[38;5;241m*\u001B[39m\u001B[38;5;241m*\u001B[39mkwargs):\n\u001B[0;32m     18\u001B[0m     start_time \u001B[38;5;241m=\u001B[39m time\u001B[38;5;241m.\u001B[39mtime()\n\u001B[1;32m---> 19\u001B[0m     ret \u001B[38;5;241m=\u001B[39m \u001B[43mfunc\u001B[49m\u001B[43m(\u001B[49m\u001B[38;5;241;43m*\u001B[39;49m\u001B[43margs\u001B[49m\u001B[43m,\u001B[49m\u001B[43m \u001B[49m\u001B[38;5;241;43m*\u001B[39;49m\u001B[38;5;241;43m*\u001B[39;49m\u001B[43mkwargs\u001B[49m\u001B[43m)\u001B[49m\n\u001B[0;32m     20\u001B[0m     end_time \u001B[38;5;241m=\u001B[39m time\u001B[38;5;241m.\u001B[39mtime()\n\u001B[0;32m     21\u001B[0m     \u001B[38;5;66;03m# prints the time in minutes and seconds and to the 3rd digit after the dot\u001B[39;00m\n",
      "Input \u001B[1;32mIn [3]\u001B[0m, in \u001B[0;36mrun_phase\u001B[1;34m(PhaseNumber, phase_model_class, config)\u001B[0m\n\u001B[0;32m     27\u001B[0m \u001B[38;5;66;03m# batch size\u001B[39;00m\n\u001B[0;32m     28\u001B[0m \n\u001B[0;32m     29\u001B[0m \u001B[38;5;66;03m# wavs, txts = PreProcessing.load_data(mode='test', data_path=PreProcessing.DATA_PATH)\u001B[39;00m\n\u001B[0;32m     30\u001B[0m \u001B[38;5;66;03m# test_dataset = PreProcessing.AudioDataset(wavs, txts)\u001B[39;00m\n\u001B[0;32m     31\u001B[0m \u001B[38;5;66;03m# test_dataloader = torch.utils.data.DataLoader(test_dataset, batch_size=config.batch_size)\u001B[39;00m\n\u001B[0;32m     33\u001B[0m model \u001B[38;5;241m=\u001B[39m PhaseThreeModel\u001B[38;5;241m.\u001B[39mPhaseThreeModel(config,\n\u001B[0;32m     34\u001B[0m                                         n_cnn_layers\u001B[38;5;241m=\u001B[39mconfig\u001B[38;5;241m.\u001B[39mhyperparams[\u001B[38;5;124m'\u001B[39m\u001B[38;5;124mn_cnn_layers\u001B[39m\u001B[38;5;124m'\u001B[39m],\n\u001B[0;32m     35\u001B[0m                                         n_rnn_layers\u001B[38;5;241m=\u001B[39m config\u001B[38;5;241m.\u001B[39mhyperparams[\u001B[38;5;124m'\u001B[39m\u001B[38;5;124mn_rnn_layers\u001B[39m\u001B[38;5;124m'\u001B[39m],\n\u001B[1;32m   (...)\u001B[0m\n\u001B[0;32m     40\u001B[0m                                         dropout\u001B[38;5;241m=\u001B[39m config\u001B[38;5;241m.\u001B[39mhyperparams[\u001B[38;5;124m'\u001B[39m\u001B[38;5;124mdropout\u001B[39m\u001B[38;5;124m'\u001B[39m],\n\u001B[0;32m     41\u001B[0m                                         )\n\u001B[1;32m---> 42\u001B[0m \u001B[43mPhaseThreeModel\u001B[49m\u001B[38;5;241;43m.\u001B[39;49m\u001B[43mtrain_model_phase_three\u001B[49m\u001B[43m(\u001B[49m\u001B[43mmodel\u001B[49m\u001B[43m,\u001B[49m\u001B[43m \u001B[49m\u001B[43mtrain_dataloader\u001B[49m\u001B[43m,\u001B[49m\u001B[43m \u001B[49m\u001B[43mtest_dataloader\u001B[49m\u001B[38;5;241;43m=\u001B[39;49m\u001B[38;5;28;43;01mNone\u001B[39;49;00m\u001B[43m,\u001B[49m\u001B[43m \u001B[49m\u001B[43mconfig\u001B[49m\u001B[38;5;241;43m=\u001B[39;49m\u001B[43mconfig\u001B[49m\u001B[43m)\u001B[49m\n",
      "File \u001B[1;32m~\\Documents\\ACADEMY\\6th semester\\Speech Processing\\SPEECH\\Final Project\\Code\\PhaseThreeModel.py:174\u001B[0m, in \u001B[0;36mtrain_model_phase_three\u001B[1;34m(model, train_dataloader, device, test_dataloader, config)\u001B[0m\n\u001B[0;32m    171\u001B[0m outputs_to_ctc \u001B[38;5;241m=\u001B[39m outputs_logsoft\u001B[38;5;241m.\u001B[39mtranspose(\u001B[38;5;241m0\u001B[39m, \u001B[38;5;241m1\u001B[39m)  \u001B[38;5;66;03m# (time, batch, num_classes)\u001B[39;00m\n\u001B[0;32m    172\u001B[0m loss \u001B[38;5;241m=\u001B[39m model\u001B[38;5;241m.\u001B[39mctc_loss(outputs_to_ctc, labels, input_lengths, target_lengths)\n\u001B[1;32m--> 174\u001B[0m \u001B[43mloss\u001B[49m\u001B[38;5;241;43m.\u001B[39;49m\u001B[43mbackward\u001B[49m\u001B[43m(\u001B[49m\u001B[43m)\u001B[49m\n\u001B[0;32m    175\u001B[0m optimizer\u001B[38;5;241m.\u001B[39mstep()\n\u001B[0;32m    177\u001B[0m \u001B[38;5;66;03m# print statistics\u001B[39;00m\n",
      "File \u001B[1;32mc:\\python38\\lib\\site-packages\\torch\\_tensor.py:487\u001B[0m, in \u001B[0;36mTensor.backward\u001B[1;34m(self, gradient, retain_graph, create_graph, inputs)\u001B[0m\n\u001B[0;32m    477\u001B[0m \u001B[38;5;28;01mif\u001B[39;00m has_torch_function_unary(\u001B[38;5;28mself\u001B[39m):\n\u001B[0;32m    478\u001B[0m     \u001B[38;5;28;01mreturn\u001B[39;00m handle_torch_function(\n\u001B[0;32m    479\u001B[0m         Tensor\u001B[38;5;241m.\u001B[39mbackward,\n\u001B[0;32m    480\u001B[0m         (\u001B[38;5;28mself\u001B[39m,),\n\u001B[1;32m   (...)\u001B[0m\n\u001B[0;32m    485\u001B[0m         inputs\u001B[38;5;241m=\u001B[39minputs,\n\u001B[0;32m    486\u001B[0m     )\n\u001B[1;32m--> 487\u001B[0m \u001B[43mtorch\u001B[49m\u001B[38;5;241;43m.\u001B[39;49m\u001B[43mautograd\u001B[49m\u001B[38;5;241;43m.\u001B[39;49m\u001B[43mbackward\u001B[49m\u001B[43m(\u001B[49m\n\u001B[0;32m    488\u001B[0m \u001B[43m    \u001B[49m\u001B[38;5;28;43mself\u001B[39;49m\u001B[43m,\u001B[49m\u001B[43m \u001B[49m\u001B[43mgradient\u001B[49m\u001B[43m,\u001B[49m\u001B[43m \u001B[49m\u001B[43mretain_graph\u001B[49m\u001B[43m,\u001B[49m\u001B[43m \u001B[49m\u001B[43mcreate_graph\u001B[49m\u001B[43m,\u001B[49m\u001B[43m \u001B[49m\u001B[43minputs\u001B[49m\u001B[38;5;241;43m=\u001B[39;49m\u001B[43minputs\u001B[49m\n\u001B[0;32m    489\u001B[0m \u001B[43m\u001B[49m\u001B[43m)\u001B[49m\n",
      "File \u001B[1;32mc:\\python38\\lib\\site-packages\\torch\\autograd\\__init__.py:200\u001B[0m, in \u001B[0;36mbackward\u001B[1;34m(tensors, grad_tensors, retain_graph, create_graph, grad_variables, inputs)\u001B[0m\n\u001B[0;32m    195\u001B[0m     retain_graph \u001B[38;5;241m=\u001B[39m create_graph\n\u001B[0;32m    197\u001B[0m \u001B[38;5;66;03m# The reason we repeat same the comment below is that\u001B[39;00m\n\u001B[0;32m    198\u001B[0m \u001B[38;5;66;03m# some Python versions print out the first line of a multi-line function\u001B[39;00m\n\u001B[0;32m    199\u001B[0m \u001B[38;5;66;03m# calls in the traceback and some print out the last line\u001B[39;00m\n\u001B[1;32m--> 200\u001B[0m \u001B[43mVariable\u001B[49m\u001B[38;5;241;43m.\u001B[39;49m\u001B[43m_execution_engine\u001B[49m\u001B[38;5;241;43m.\u001B[39;49m\u001B[43mrun_backward\u001B[49m\u001B[43m(\u001B[49m\u001B[43m  \u001B[49m\u001B[38;5;66;43;03m# Calls into the C++ engine to run the backward pass\u001B[39;49;00m\n\u001B[0;32m    201\u001B[0m \u001B[43m    \u001B[49m\u001B[43mtensors\u001B[49m\u001B[43m,\u001B[49m\u001B[43m \u001B[49m\u001B[43mgrad_tensors_\u001B[49m\u001B[43m,\u001B[49m\u001B[43m \u001B[49m\u001B[43mretain_graph\u001B[49m\u001B[43m,\u001B[49m\u001B[43m \u001B[49m\u001B[43mcreate_graph\u001B[49m\u001B[43m,\u001B[49m\u001B[43m \u001B[49m\u001B[43minputs\u001B[49m\u001B[43m,\u001B[49m\n\u001B[0;32m    202\u001B[0m \u001B[43m    \u001B[49m\u001B[43mallow_unreachable\u001B[49m\u001B[38;5;241;43m=\u001B[39;49m\u001B[38;5;28;43;01mTrue\u001B[39;49;00m\u001B[43m,\u001B[49m\u001B[43m \u001B[49m\u001B[43maccumulate_grad\u001B[49m\u001B[38;5;241;43m=\u001B[39;49m\u001B[38;5;28;43;01mTrue\u001B[39;49;00m\u001B[43m)\u001B[49m\n",
      "\u001B[1;31mKeyboardInterrupt\u001B[0m: "
     ]
    }
   ],
   "source": [
    "run_phase(\"PhaseThree\", PhaseThreeModel.PhaseThreeModel, config=Config(wandb_init=False))"
   ],
   "metadata": {
    "collapsed": false,
    "ExecuteTime": {
     "end_time": "2023-08-21T16:21:59.199546200Z",
     "start_time": "2023-08-21T16:21:21.073949600Z"
    }
   }
  }
 ],
 "metadata": {
  "kernelspec": {
   "display_name": "Python 3",
   "language": "python",
   "name": "python3"
  },
  "language_info": {
   "codemirror_mode": {
    "name": "ipython",
    "version": 2
   },
   "file_extension": ".py",
   "mimetype": "text/x-python",
   "name": "python",
   "nbconvert_exporter": "python",
   "pygments_lexer": "ipython2",
   "version": "2.7.6"
  }
 },
 "nbformat": 4,
 "nbformat_minor": 0
}
