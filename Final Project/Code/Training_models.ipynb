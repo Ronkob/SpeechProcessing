{
 "cells": [
  {
   "cell_type": "code",
   "execution_count": null,
   "outputs": [],
   "source": [
    "from google.colab import drive\n",
    "drive.mount('/content/drive')"
   ],
   "metadata": {
    "collapsed": false
   }
  },
  {
   "cell_type": "code",
   "execution_count": null,
   "outputs": [],
   "source": [
    "%cd /content/drive/MyDrive/SPEECH/Code"
   ],
   "metadata": {
    "collapsed": false
   }
  },
  {
   "cell_type": "code",
   "execution_count": null,
   "outputs": [],
   "source": [
    "!pip install wandb\n",
    "!pip install jiwer"
   ],
   "metadata": {
    "collapsed": false
   }
  },
  {
   "cell_type": "markdown",
   "source": [
    "This is the main part of the code. It makes models by phases"
   ],
   "metadata": {
    "collapsed": false
   }
  },
  {
   "cell_type": "code",
   "execution_count": 1,
   "outputs": [],
   "source": [
    "from dataclasses import dataclass\n",
    "\n",
    "import PreProcessing, PhaseOneModel, PhaseTwoModel, PhaseThreeModel, Evaluating\n",
    "import torch\n",
    "import wandb"
   ],
   "metadata": {
    "collapsed": false,
    "ExecuteTime": {
     "end_time": "2023-08-21T17:43:38.874838700Z",
     "start_time": "2023-08-21T17:43:35.852832100Z"
    }
   }
  },
  {
   "cell_type": "code",
   "execution_count": 2,
   "outputs": [],
   "source": [
    "@dataclass\n",
    "class Config:\n",
    "    learning_rate: float = 0.01\n",
    "    epochs: int = 300\n",
    "    batch_size: int = 4\n",
    "    wandb_init: bool = False\n",
    "\n",
    "    hyperparams = {\n",
    "        \"n_cnn_layers\": 3,\n",
    "        \"n_rnn_layers\": 5,\n",
    "        \"rnn_dim\": 512,\n",
    "        \"n_class\": 28,\n",
    "        \"n_feats\": 13,\n",
    "        \"stride\": 2,\n",
    "        \"dropout\": 0.1,\n",
    "    }"
   ],
   "metadata": {
    "collapsed": false,
    "ExecuteTime": {
     "end_time": "2023-08-21T17:43:38.890464200Z",
     "start_time": "2023-08-21T17:43:38.874838700Z"
    }
   }
  },
  {
   "cell_type": "code",
   "execution_count": 3,
   "outputs": [],
   "source": [
    "def create_model(PhaseNumber, phase_model_class, config=None):\n",
    "    device = torch.device(\"cuda\" if torch.cuda.is_available() else \"cpu\")\n",
    "    print(\"Using {} device\".format(device))\n",
    "    architecture = PhaseNumber + 'Model'\n",
    "    # turn on and off wandb logging\n",
    "    # start a new wandb run to track this script\n",
    "    if config.wandb_init:\n",
    "        wandb.init(\n",
    "            # set the wandb project where this run will be logged\n",
    "            project=\"speechRecProj\",\n",
    "\n",
    "            # track hyperparameters and run metadata\n",
    "            config={\n",
    "                \"learning_rate\": config.learning_rate,\n",
    "                \"architecture\": architecture,\n",
    "                \"epochs\": config.epochs,\n",
    "                \"batch_size\": config.batch_size,\n",
    "            }\n",
    "        )\n",
    "\n",
    "    wavs, txts = PreProcessing.load_data(mode='train', data_path=PreProcessing.DATA_PATH)\n",
    "\n",
    "    # Now you can create a Dataset and DataLoader for your data\n",
    "    dataset = PreProcessing.AudioDatasetV3(wavs, txts)\n",
    "    train_dataloader = torch.utils.data.DataLoader(dataset, batch_size=config.batch_size,\n",
    "                                                   collate_fn=lambda x:\n",
    "                                                   PreProcessing.process_data(x))\n",
    "    test_dataloader = None\n",
    "    # batch size\n",
    "\n",
    "    # wavs, txts = PreProcessing.load_data(mode='test', data_path=PreProcessing.DATA_PATH)\n",
    "    # test_dataset = PreProcessing.AudioDataset(wavs, txts)\n",
    "    # test_dataloader = torch.utils.data.DataLoader(test_dataset, batch_size=config.batch_size)\n",
    "\n",
    "    model = PhaseThreeModel.PhaseThreeModel(config,\n",
    "                                            n_cnn_layers=config.hyperparams['n_cnn_layers'],\n",
    "                                            n_rnn_layers= config.hyperparams['n_rnn_layers'],\n",
    "                                            rnn_dim= config.hyperparams['rnn_dim'],\n",
    "                                            n_class= config.hyperparams['n_class'],\n",
    "                                            n_feats= config.hyperparams['n_feats'],\n",
    "                                            stride= config.hyperparams['stride'],\n",
    "                                            dropout= config.hyperparams['dropout'],\n",
    "                                            )\n",
    "\n",
    "    return model, train_dataloader, test_dataloader, device"
   ],
   "metadata": {
    "collapsed": false,
    "ExecuteTime": {
     "end_time": "2023-08-21T17:43:38.906197100Z",
     "start_time": "2023-08-21T17:43:38.890464200Z"
    }
   }
  },
  {
   "cell_type": "code",
   "execution_count": null,
   "outputs": [],
   "source": [
    "model, train_dataloader, test_dataloader, device = create_model(\"PhaseThree\", PhaseThreeModel.PhaseThreeModel, config=Config(wandb_init=True))"
   ],
   "metadata": {
    "collapsed": false
   }
  },
  {
   "cell_type": "code",
   "execution_count": null,
   "outputs": [],
   "source": [
    "PhaseThreeModel.train_model_phase_three(model, train_dataloader, device, config=Config(wandb_init=False))"
   ],
   "metadata": {
    "collapsed": false
   }
  },
  {
   "cell_type": "code",
   "execution_count": 4,
   "outputs": [
    {
     "data": {
      "text/plain": "<IPython.core.display.Javascript object>",
      "application/javascript": "function ClickConnect(){\nconsole.log(\"Working\");\ndocument.querySelector(\"colab-toolbar-button#connect\").click()\n}setInterval(ClickConnect,60000)\n"
     },
     "metadata": {},
     "output_type": "display_data"
    }
   ],
   "source": [
    "%%javascript\n",
    "function ClickConnect(){\n",
    "console.log(\"Working\");\n",
    "document.querySelector(\"colab-toolbar-button#connect\").click()\n",
    "}setInterval(ClickConnect,60000)"
   ],
   "metadata": {
    "collapsed": false,
    "ExecuteTime": {
     "end_time": "2023-08-21T17:43:38.937337300Z",
     "start_time": "2023-08-21T17:43:38.906197100Z"
    }
   }
  },
  {
   "cell_type": "code",
   "execution_count": null,
   "outputs": [
    {
     "name": "stdout",
     "output_type": "stream",
     "text": [
      "Using cpu device\n",
      "First Input:  torch.Size([1, 13, 384]) First Label:  tensor([24, 27,  9, 27, 19,  9, 24, 20, 25, 27, 15, 14,  5,  0,  0,  0,  0,  0,\n",
      "         0,  0,  0,  0]) First Label Length:  13\n",
      "Epoch:  0 / 300  ( 0.0 %)\n",
      "Model Output:  jjjfjj pjvjijpujj'jjjeqqjjnjj'jqvjjjmmeppjpj pejpjjjjbpempjpjjjjpmnfepemjjpjhev ejhjqjp jjjhhqjhpjjjjj'j'jppjjpnjjpjnjjjhnjpjjjjj jpvpnj i  ppjpjjesjiejjjjpqjejjj'js wpjjprjpujpuppjwhep'emume'pphjpjwwju puumjqu wpujhpjppp'jjjwu hupjus'pppwpjpeeeqjphpeppmjpepuejphmppuuhwppppnppjpeupppppep'upquqewhpejjjj'jppwpuehxjp'pwmphpjjm u jquepew ppjfeph'j''seppepup'ppquwhppp'hppjjp'ppwpppjjuuu\n",
      "Model Prediction:  ([\"jnj'j e'j'e qjnpjrjdsjnjp'mpj'npeje'npep' jpjwpjnefjp p epq'hnjpje'njejn'j'jnj'ndqfevheajnvjnpxj'pmi jqeqjpjejpjnpjej' q w'pu'pn'upjp'eu'epjpspwjhpqpupuxemj'pu jpujejpjs'lqpjnp'ep'pfphqp'xuej'jpme'p'pe'pepupj'pe'jp'jpjewlwmwjpspu'jpnpjwxhmwphpmpjpupjeuepupmpmpe mpqeh'ejujwpehej upqpjpsjhqmujpwujpjpe'pu\"], ['x i sixty one'])\n",
      "[1,    10] loss: 49.353\n",
      "[1,    20] loss: 45.898\n",
      "[1,    30] loss: 32.073\n",
      "[1,    40] loss: 51.550\n",
      "[1,    50] loss: 30.840\n",
      "[1,    60] loss: 27.409\n"
     ]
    }
   ],
   "source": [
    "run_phase(\"PhaseThree\", PhaseThreeModel.PhaseThreeModel, config=Config(wandb_init=False))"
   ],
   "metadata": {
    "collapsed": false,
    "is_executing": true,
    "ExecuteTime": {
     "start_time": "2023-08-21T18:19:08.855096800Z"
    }
   }
  },
  {
   "cell_type": "code",
   "execution_count": null,
   "outputs": [],
   "source": [],
   "metadata": {
    "collapsed": false,
    "ExecuteTime": {
     "start_time": "2023-08-21T17:52:10.877854100Z"
    }
   }
  }
 ],
 "metadata": {
  "kernelspec": {
   "display_name": "Python 3",
   "language": "python",
   "name": "python3"
  },
  "language_info": {
   "codemirror_mode": {
    "name": "ipython",
    "version": 2
   },
   "file_extension": ".py",
   "mimetype": "text/x-python",
   "name": "python",
   "nbconvert_exporter": "python",
   "pygments_lexer": "ipython2",
   "version": "2.7.6"
  }
 },
 "nbformat": 4,
 "nbformat_minor": 0
}
