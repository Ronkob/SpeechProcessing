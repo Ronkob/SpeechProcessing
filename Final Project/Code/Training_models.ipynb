{
 "cells": [
  {
   "cell_type": "code",
   "execution_count": null,
   "outputs": [],
   "source": [
    "from google.colab import drive\n",
    "drive.mount('/content/drive')"
   ],
   "metadata": {
    "collapsed": false
   }
  },
  {
   "cell_type": "code",
   "execution_count": null,
   "outputs": [],
   "source": [
    "%cd /content/drive/MyDrive/SPEECH/Code"
   ],
   "metadata": {
    "collapsed": false
   }
  },
  {
   "cell_type": "code",
   "execution_count": null,
   "outputs": [],
   "source": [
    "!pip install wandb\n",
    "!pip install jiwer"
   ],
   "metadata": {
    "collapsed": false
   }
  },
  {
   "cell_type": "markdown",
   "source": [
    "This is the main part of the code. It makes models by phases"
   ],
   "metadata": {
    "collapsed": false
   }
  },
  {
   "cell_type": "code",
   "execution_count": 1,
   "outputs": [],
   "source": [
    "from dataclasses import dataclass\n",
    "\n",
    "import PreProcessing, PhaseOneModel, PhaseTwoModel, PhaseThreeModel, Evaluating\n",
    "import torch\n",
    "import wandb"
   ],
   "metadata": {
    "collapsed": false,
    "ExecuteTime": {
     "end_time": "2023-08-21T17:43:38.874838700Z",
     "start_time": "2023-08-21T17:43:35.852832100Z"
    }
   }
  },
  {
   "cell_type": "code",
   "execution_count": 2,
   "outputs": [],
   "source": [
    "@dataclass\n",
    "class Config:\n",
    "    learning_rate: float = 0.01\n",
    "    epochs: int = 300\n",
    "    batch_size: int = 4\n",
    "    wandb_init: bool = False\n",
    "\n",
    "    hyperparams = {\n",
    "        \"n_cnn_layers\": 3,\n",
    "        \"n_rnn_layers\": 5,\n",
    "        \"rnn_dim\": 512,\n",
    "        \"n_class\": 28,\n",
    "        \"n_feats\": 13,\n",
    "        \"stride\": 2,\n",
    "        \"dropout\": 0.1,\n",
    "    }"
   ],
   "metadata": {
    "collapsed": false,
    "ExecuteTime": {
     "end_time": "2023-08-21T17:43:38.890464200Z",
     "start_time": "2023-08-21T17:43:38.874838700Z"
    }
   }
  },
  {
   "cell_type": "code",
   "execution_count": 3,
   "outputs": [],
   "source": [
    "def create_model(PhaseNumber, phase_model_class, config=None):\n",
    "    device = torch.device(\"cuda\" if torch.cuda.is_available() else \"cpu\")\n",
    "    print(\"Using {} device\".format(device))\n",
    "    architecture = PhaseNumber + 'Model'\n",
    "    # turn on and off wandb logging\n",
    "    # start a new wandb run to track this script\n",
    "    if config.wandb_init:\n",
    "        wandb.init(\n",
    "            # set the wandb project where this run will be logged\n",
    "            project=\"speechRecProj\",\n",
    "\n",
    "            # track hyperparameters and run metadata\n",
    "            config={\n",
    "                \"learning_rate\": config.learning_rate,\n",
    "                \"architecture\": architecture,\n",
    "                \"epochs\": config.epochs,\n",
    "                \"batch_size\": config.batch_size,\n",
    "            }\n",
    "        )\n",
    "\n",
    "    wavs, txts = PreProcessing.load_data(mode='train', data_path=PreProcessing.DATA_PATH)\n",
    "\n",
    "    # Now you can create a Dataset and DataLoader for your data\n",
    "    dataset = PreProcessing.AudioDatasetV3(wavs, txts)\n",
    "    train_dataloader = torch.utils.data.DataLoader(dataset, batch_size=config.batch_size,\n",
    "                                                   collate_fn=lambda x:\n",
    "                                                   PreProcessing.process_data(x))\n",
    "    test_dataloader = None\n",
    "    # batch size\n",
    "\n",
    "    # wavs, txts = PreProcessing.load_data(mode='test', data_path=PreProcessing.DATA_PATH)\n",
    "    # test_dataset = PreProcessing.AudioDataset(wavs, txts)\n",
    "    # test_dataloader = torch.utils.data.DataLoader(test_dataset, batch_size=config.batch_size)\n",
    "\n",
    "    model = PhaseThreeModel.PhaseThreeModel(config,\n",
    "                                            n_cnn_layers=config.hyperparams['n_cnn_layers'],\n",
    "                                            n_rnn_layers= config.hyperparams['n_rnn_layers'],\n",
    "                                            rnn_dim= config.hyperparams['rnn_dim'],\n",
    "                                            n_class= config.hyperparams['n_class'],\n",
    "                                            n_feats= config.hyperparams['n_feats'],\n",
    "                                            stride= config.hyperparams['stride'],\n",
    "                                            dropout= config.hyperparams['dropout'],\n",
    "                                            )\n",
    "\n",
    "    return model, train_dataloader, test_dataloader, device"
   ],
   "metadata": {
    "collapsed": false,
    "ExecuteTime": {
     "end_time": "2023-08-21T17:43:38.906197100Z",
     "start_time": "2023-08-21T17:43:38.890464200Z"
    }
   }
  },
  {
   "cell_type": "code",
   "execution_count": null,
   "outputs": [],
   "source": [
    "model, train_dataloader, test_dataloader, device = create_model(\"PhaseThree\", PhaseThreeModel.PhaseThreeModel, config=Config(wandb_init=True))"
   ],
   "metadata": {
    "collapsed": false
   }
  },
  {
   "cell_type": "code",
   "execution_count": null,
   "outputs": [],
   "source": [
    "PhaseThreeModel.train_model_phase_three(model, train_dataloader, device, config=Config(wandb_init=False))"
   ],
   "metadata": {
    "collapsed": false
   }
  },
  {
   "cell_type": "code",
   "execution_count": 4,
   "outputs": [
    {
     "data": {
      "text/plain": "<IPython.core.display.Javascript object>",
      "application/javascript": "function ClickConnect(){\nconsole.log(\"Working\");\ndocument.querySelector(\"colab-toolbar-button#connect\").click()\n}setInterval(ClickConnect,60000)\n"
     },
     "metadata": {},
     "output_type": "display_data"
    }
   ],
   "source": [
    "%%javascript\n",
    "function ClickConnect(){\n",
    "console.log(\"Working\");\n",
    "document.querySelector(\"colab-toolbar-button#connect\").click()\n",
    "}setInterval(ClickConnect,60000)"
   ],
   "metadata": {
    "collapsed": false,
    "ExecuteTime": {
     "end_time": "2023-08-21T17:43:38.937337300Z",
     "start_time": "2023-08-21T17:43:38.906197100Z"
    }
   }
  },
  {
   "cell_type": "code",
   "execution_count": 5,
   "outputs": [
    {
     "name": "stdout",
     "output_type": "stream",
     "text": [
      "Using cpu device\n",
      "First Input:  torch.Size([1, 13, 384]) First Label:  tensor([24, 27,  9, 27, 19,  9, 24, 20, 25, 27, 15, 14,  5,  0,  0,  0,  0,  0,\n",
      "         0,  0,  0,  0]) First Label Length:  13\n",
      "Epoch:  0 / 300  ( 0.0 %)\n",
      "Model Output:  ggggngnvsngdngdvdnnfggnnggnhjsnngngssgdegggzggggsgsjgnzgggngigngggggcxgcggggcvggggggnfnnggggggggggfhgggnhgznngggedscgggxgggvgngggfgggcxggvvgngwiggngdgnngnigqginnnnvvnnnnggvvnevzgnnnnddggvzggvgvnnvnzgzelgnfnnnvnsgnnngngnggnnggvnvgvngnnvggfgggnlwniznnnnnggnnvvggnnnevngnjnnnghnfinznzgngzngnngnggnllgsgnznnvnfgnggnngnengngzegngignzggnifgvdgngnggnnngvgnninnngnnuvnvegnnnngffgggnzfgnngnzvg\n",
      "Model Prediction:  (['fngcfdsndghncgngngdgdsfgegnghgvxghgeigzgngzgigncgecgcvcgngngszgnsngzgzgngengeihnzsgngfegngcngcvgehdgngtgnzgivgnsvhgsnwgnvfngngngjngngivngzvgigngngvezngngfvgnvhdgfngnvznlegnzgngndvzvgngenfngngndnzgngnelzgfngngflzngvgvnfznegngvnfnvngningngezlevenglzgengnfgnlnzgvivngngnfnvgngngvngngng'], ['x i sixty one'])\n",
      "[1,    10] loss: 69.356\n",
      "[1,    20] loss: 57.226\n",
      "[1,    30] loss: 78.436\n",
      "[1,    40] loss: 31.908\n",
      "[1,    50] loss: 5.799\n",
      "[1,    60] loss: 4.014\n",
      "[1,    70] loss: 3.873\n",
      "[1,    80] loss: 3.721\n",
      "[1,    90] loss: 3.157\n",
      "[1,   100] loss: 2.717\n"
     ]
    },
    {
     "ename": "KeyboardInterrupt",
     "evalue": "",
     "output_type": "error",
     "traceback": [
      "\u001B[1;31m---------------------------------------------------------------------------\u001B[0m",
      "\u001B[1;31mKeyboardInterrupt\u001B[0m                         Traceback (most recent call last)",
      "Input \u001B[1;32mIn [5]\u001B[0m, in \u001B[0;36m<cell line: 1>\u001B[1;34m()\u001B[0m\n\u001B[1;32m----> 1\u001B[0m run_phase(\u001B[38;5;124m\"\u001B[39m\u001B[38;5;124mPhaseThree\u001B[39m\u001B[38;5;124m\"\u001B[39m, PhaseThreeModel\u001B[38;5;241m.\u001B[39mPhaseThreeModel, config\u001B[38;5;241m=\u001B[39mConfig(wandb_init\u001B[38;5;241m=\u001B[39m\u001B[38;5;28;01mFalse\u001B[39;00m))\n",
      "Input \u001B[1;32mIn [3]\u001B[0m, in \u001B[0;36mrun_phase\u001B[1;34m(PhaseNumber, phase_model_class, config)\u001B[0m\n\u001B[0;32m     28\u001B[0m \u001B[38;5;66;03m# batch size\u001B[39;00m\n\u001B[0;32m     29\u001B[0m \n\u001B[0;32m     30\u001B[0m \u001B[38;5;66;03m# wavs, txts = PreProcessing.load_data(mode='test', data_path=PreProcessing.DATA_PATH)\u001B[39;00m\n\u001B[0;32m     31\u001B[0m \u001B[38;5;66;03m# test_dataset = PreProcessing.AudioDataset(wavs, txts)\u001B[39;00m\n\u001B[0;32m     32\u001B[0m \u001B[38;5;66;03m# test_dataloader = torch.utils.data.DataLoader(test_dataset, batch_size=config.batch_size)\u001B[39;00m\n\u001B[0;32m     34\u001B[0m model \u001B[38;5;241m=\u001B[39m PhaseThreeModel\u001B[38;5;241m.\u001B[39mPhaseThreeModel(config,\n\u001B[0;32m     35\u001B[0m                                         n_cnn_layers\u001B[38;5;241m=\u001B[39mconfig\u001B[38;5;241m.\u001B[39mhyperparams[\u001B[38;5;124m'\u001B[39m\u001B[38;5;124mn_cnn_layers\u001B[39m\u001B[38;5;124m'\u001B[39m],\n\u001B[0;32m     36\u001B[0m                                         n_rnn_layers\u001B[38;5;241m=\u001B[39m config\u001B[38;5;241m.\u001B[39mhyperparams[\u001B[38;5;124m'\u001B[39m\u001B[38;5;124mn_rnn_layers\u001B[39m\u001B[38;5;124m'\u001B[39m],\n\u001B[1;32m   (...)\u001B[0m\n\u001B[0;32m     41\u001B[0m                                         dropout\u001B[38;5;241m=\u001B[39m config\u001B[38;5;241m.\u001B[39mhyperparams[\u001B[38;5;124m'\u001B[39m\u001B[38;5;124mdropout\u001B[39m\u001B[38;5;124m'\u001B[39m],\n\u001B[0;32m     42\u001B[0m                                         )\n\u001B[1;32m---> 43\u001B[0m \u001B[43mPhaseThreeModel\u001B[49m\u001B[38;5;241;43m.\u001B[39;49m\u001B[43mtrain_model_phase_three\u001B[49m\u001B[43m(\u001B[49m\u001B[43mmodel\u001B[49m\u001B[43m,\u001B[49m\u001B[43m \u001B[49m\u001B[43mtrain_dataloader\u001B[49m\u001B[43m,\u001B[49m\u001B[43m \u001B[49m\u001B[43mdevice\u001B[49m\u001B[38;5;241;43m=\u001B[39;49m\u001B[43mdevice\u001B[49m\u001B[43m,\u001B[49m\u001B[43m \u001B[49m\u001B[43mtest_dataloader\u001B[49m\u001B[38;5;241;43m=\u001B[39;49m\u001B[38;5;28;43;01mNone\u001B[39;49;00m\u001B[43m,\u001B[49m\u001B[43m \u001B[49m\u001B[43mconfig\u001B[49m\u001B[38;5;241;43m=\u001B[39;49m\u001B[43mconfig\u001B[49m\u001B[43m)\u001B[49m\n",
      "File \u001B[1;32m~\\Documents\\ACADEMY\\6th semester\\Speech Processing\\SPEECH\\Final Project\\Code\\PhaseThreeModel.py:165\u001B[0m, in \u001B[0;36mtrain_model_phase_three\u001B[1;34m(model, train_dataloader, device, test_dataloader, config)\u001B[0m\n\u001B[0;32m    162\u001B[0m optimizer\u001B[38;5;241m.\u001B[39mzero_grad()\n\u001B[0;32m    164\u001B[0m \u001B[38;5;66;03m# forward + backward + optimize\u001B[39;00m\n\u001B[1;32m--> 165\u001B[0m outputs \u001B[38;5;241m=\u001B[39m \u001B[43mmodel\u001B[49m\u001B[43m(\u001B[49m\u001B[43minputs\u001B[49m\u001B[43m)\u001B[49m\n\u001B[0;32m    166\u001B[0m outputs_logsoft \u001B[38;5;241m=\u001B[39m torch\u001B[38;5;241m.\u001B[39mnn\u001B[38;5;241m.\u001B[39mfunctional\u001B[38;5;241m.\u001B[39mlog_softmax(outputs, dim\u001B[38;5;241m=\u001B[39m\u001B[38;5;241m2\u001B[39m)\n\u001B[0;32m    168\u001B[0m \u001B[38;5;66;03m# Calculate input and target lengths\u001B[39;00m\n",
      "File \u001B[1;32mc:\\python38\\lib\\site-packages\\torch\\nn\\modules\\module.py:1501\u001B[0m, in \u001B[0;36mModule._call_impl\u001B[1;34m(self, *args, **kwargs)\u001B[0m\n\u001B[0;32m   1496\u001B[0m \u001B[38;5;66;03m# If we don't have any hooks, we want to skip the rest of the logic in\u001B[39;00m\n\u001B[0;32m   1497\u001B[0m \u001B[38;5;66;03m# this function, and just call forward.\u001B[39;00m\n\u001B[0;32m   1498\u001B[0m \u001B[38;5;28;01mif\u001B[39;00m \u001B[38;5;129;01mnot\u001B[39;00m (\u001B[38;5;28mself\u001B[39m\u001B[38;5;241m.\u001B[39m_backward_hooks \u001B[38;5;129;01mor\u001B[39;00m \u001B[38;5;28mself\u001B[39m\u001B[38;5;241m.\u001B[39m_backward_pre_hooks \u001B[38;5;129;01mor\u001B[39;00m \u001B[38;5;28mself\u001B[39m\u001B[38;5;241m.\u001B[39m_forward_hooks \u001B[38;5;129;01mor\u001B[39;00m \u001B[38;5;28mself\u001B[39m\u001B[38;5;241m.\u001B[39m_forward_pre_hooks\n\u001B[0;32m   1499\u001B[0m         \u001B[38;5;129;01mor\u001B[39;00m _global_backward_pre_hooks \u001B[38;5;129;01mor\u001B[39;00m _global_backward_hooks\n\u001B[0;32m   1500\u001B[0m         \u001B[38;5;129;01mor\u001B[39;00m _global_forward_hooks \u001B[38;5;129;01mor\u001B[39;00m _global_forward_pre_hooks):\n\u001B[1;32m-> 1501\u001B[0m     \u001B[38;5;28;01mreturn\u001B[39;00m \u001B[43mforward_call\u001B[49m\u001B[43m(\u001B[49m\u001B[38;5;241;43m*\u001B[39;49m\u001B[43margs\u001B[49m\u001B[43m,\u001B[49m\u001B[43m \u001B[49m\u001B[38;5;241;43m*\u001B[39;49m\u001B[38;5;241;43m*\u001B[39;49m\u001B[43mkwargs\u001B[49m\u001B[43m)\u001B[49m\n\u001B[0;32m   1502\u001B[0m \u001B[38;5;66;03m# Do not call functions when jit is used\u001B[39;00m\n\u001B[0;32m   1503\u001B[0m full_backward_hooks, non_full_backward_hooks \u001B[38;5;241m=\u001B[39m [], []\n",
      "File \u001B[1;32m~\\Documents\\ACADEMY\\6th semester\\Speech Processing\\SPEECH\\Final Project\\Code\\PhaseThreeModel.py:55\u001B[0m, in \u001B[0;36mPhaseThreeModel.forward\u001B[1;34m(self, x)\u001B[0m\n\u001B[0;32m     52\u001B[0m \u001B[38;5;28;01mdef\u001B[39;00m \u001B[38;5;21mforward\u001B[39m(\u001B[38;5;28mself\u001B[39m, x):\n\u001B[0;32m     53\u001B[0m     \u001B[38;5;66;03m# x = self.features_extractor(x)\u001B[39;00m\n\u001B[0;32m     54\u001B[0m     x \u001B[38;5;241m=\u001B[39m \u001B[38;5;28mself\u001B[39m\u001B[38;5;241m.\u001B[39mcnn(x)\n\u001B[1;32m---> 55\u001B[0m     x \u001B[38;5;241m=\u001B[39m \u001B[38;5;28;43mself\u001B[39;49m\u001B[38;5;241;43m.\u001B[39;49m\u001B[43mrescnn_layers\u001B[49m\u001B[43m(\u001B[49m\u001B[43mx\u001B[49m\u001B[43m)\u001B[49m\n\u001B[0;32m     56\u001B[0m     sizes \u001B[38;5;241m=\u001B[39m x\u001B[38;5;241m.\u001B[39msize()\n\u001B[0;32m     57\u001B[0m     x \u001B[38;5;241m=\u001B[39m x\u001B[38;5;241m.\u001B[39mview(sizes[\u001B[38;5;241m0\u001B[39m], sizes[\u001B[38;5;241m1\u001B[39m] \u001B[38;5;241m*\u001B[39m sizes[\u001B[38;5;241m2\u001B[39m], sizes[\u001B[38;5;241m3\u001B[39m])  \u001B[38;5;66;03m# (batch, feature, time)\u001B[39;00m\n",
      "File \u001B[1;32mc:\\python38\\lib\\site-packages\\torch\\nn\\modules\\module.py:1501\u001B[0m, in \u001B[0;36mModule._call_impl\u001B[1;34m(self, *args, **kwargs)\u001B[0m\n\u001B[0;32m   1496\u001B[0m \u001B[38;5;66;03m# If we don't have any hooks, we want to skip the rest of the logic in\u001B[39;00m\n\u001B[0;32m   1497\u001B[0m \u001B[38;5;66;03m# this function, and just call forward.\u001B[39;00m\n\u001B[0;32m   1498\u001B[0m \u001B[38;5;28;01mif\u001B[39;00m \u001B[38;5;129;01mnot\u001B[39;00m (\u001B[38;5;28mself\u001B[39m\u001B[38;5;241m.\u001B[39m_backward_hooks \u001B[38;5;129;01mor\u001B[39;00m \u001B[38;5;28mself\u001B[39m\u001B[38;5;241m.\u001B[39m_backward_pre_hooks \u001B[38;5;129;01mor\u001B[39;00m \u001B[38;5;28mself\u001B[39m\u001B[38;5;241m.\u001B[39m_forward_hooks \u001B[38;5;129;01mor\u001B[39;00m \u001B[38;5;28mself\u001B[39m\u001B[38;5;241m.\u001B[39m_forward_pre_hooks\n\u001B[0;32m   1499\u001B[0m         \u001B[38;5;129;01mor\u001B[39;00m _global_backward_pre_hooks \u001B[38;5;129;01mor\u001B[39;00m _global_backward_hooks\n\u001B[0;32m   1500\u001B[0m         \u001B[38;5;129;01mor\u001B[39;00m _global_forward_hooks \u001B[38;5;129;01mor\u001B[39;00m _global_forward_pre_hooks):\n\u001B[1;32m-> 1501\u001B[0m     \u001B[38;5;28;01mreturn\u001B[39;00m \u001B[43mforward_call\u001B[49m\u001B[43m(\u001B[49m\u001B[38;5;241;43m*\u001B[39;49m\u001B[43margs\u001B[49m\u001B[43m,\u001B[49m\u001B[43m \u001B[49m\u001B[38;5;241;43m*\u001B[39;49m\u001B[38;5;241;43m*\u001B[39;49m\u001B[43mkwargs\u001B[49m\u001B[43m)\u001B[49m\n\u001B[0;32m   1502\u001B[0m \u001B[38;5;66;03m# Do not call functions when jit is used\u001B[39;00m\n\u001B[0;32m   1503\u001B[0m full_backward_hooks, non_full_backward_hooks \u001B[38;5;241m=\u001B[39m [], []\n",
      "File \u001B[1;32mc:\\python38\\lib\\site-packages\\torch\\nn\\modules\\container.py:217\u001B[0m, in \u001B[0;36mSequential.forward\u001B[1;34m(self, input)\u001B[0m\n\u001B[0;32m    215\u001B[0m \u001B[38;5;28;01mdef\u001B[39;00m \u001B[38;5;21mforward\u001B[39m(\u001B[38;5;28mself\u001B[39m, \u001B[38;5;28minput\u001B[39m):\n\u001B[0;32m    216\u001B[0m     \u001B[38;5;28;01mfor\u001B[39;00m module \u001B[38;5;129;01min\u001B[39;00m \u001B[38;5;28mself\u001B[39m:\n\u001B[1;32m--> 217\u001B[0m         \u001B[38;5;28minput\u001B[39m \u001B[38;5;241m=\u001B[39m \u001B[43mmodule\u001B[49m\u001B[43m(\u001B[49m\u001B[38;5;28;43minput\u001B[39;49m\u001B[43m)\u001B[49m\n\u001B[0;32m    218\u001B[0m     \u001B[38;5;28;01mreturn\u001B[39;00m \u001B[38;5;28minput\u001B[39m\n",
      "File \u001B[1;32mc:\\python38\\lib\\site-packages\\torch\\nn\\modules\\module.py:1501\u001B[0m, in \u001B[0;36mModule._call_impl\u001B[1;34m(self, *args, **kwargs)\u001B[0m\n\u001B[0;32m   1496\u001B[0m \u001B[38;5;66;03m# If we don't have any hooks, we want to skip the rest of the logic in\u001B[39;00m\n\u001B[0;32m   1497\u001B[0m \u001B[38;5;66;03m# this function, and just call forward.\u001B[39;00m\n\u001B[0;32m   1498\u001B[0m \u001B[38;5;28;01mif\u001B[39;00m \u001B[38;5;129;01mnot\u001B[39;00m (\u001B[38;5;28mself\u001B[39m\u001B[38;5;241m.\u001B[39m_backward_hooks \u001B[38;5;129;01mor\u001B[39;00m \u001B[38;5;28mself\u001B[39m\u001B[38;5;241m.\u001B[39m_backward_pre_hooks \u001B[38;5;129;01mor\u001B[39;00m \u001B[38;5;28mself\u001B[39m\u001B[38;5;241m.\u001B[39m_forward_hooks \u001B[38;5;129;01mor\u001B[39;00m \u001B[38;5;28mself\u001B[39m\u001B[38;5;241m.\u001B[39m_forward_pre_hooks\n\u001B[0;32m   1499\u001B[0m         \u001B[38;5;129;01mor\u001B[39;00m _global_backward_pre_hooks \u001B[38;5;129;01mor\u001B[39;00m _global_backward_hooks\n\u001B[0;32m   1500\u001B[0m         \u001B[38;5;129;01mor\u001B[39;00m _global_forward_hooks \u001B[38;5;129;01mor\u001B[39;00m _global_forward_pre_hooks):\n\u001B[1;32m-> 1501\u001B[0m     \u001B[38;5;28;01mreturn\u001B[39;00m \u001B[43mforward_call\u001B[49m\u001B[43m(\u001B[49m\u001B[38;5;241;43m*\u001B[39;49m\u001B[43margs\u001B[49m\u001B[43m,\u001B[49m\u001B[43m \u001B[49m\u001B[38;5;241;43m*\u001B[39;49m\u001B[38;5;241;43m*\u001B[39;49m\u001B[43mkwargs\u001B[49m\u001B[43m)\u001B[49m\n\u001B[0;32m   1502\u001B[0m \u001B[38;5;66;03m# Do not call functions when jit is used\u001B[39;00m\n\u001B[0;32m   1503\u001B[0m full_backward_hooks, non_full_backward_hooks \u001B[38;5;241m=\u001B[39m [], []\n",
      "File \u001B[1;32m~\\Documents\\ACADEMY\\6th semester\\Speech Processing\\SPEECH\\Final Project\\Code\\PhaseThreeModel.py:111\u001B[0m, in \u001B[0;36mResidualCNN.forward\u001B[1;34m(self, x)\u001B[0m\n\u001B[0;32m    109\u001B[0m x \u001B[38;5;241m=\u001B[39m \u001B[38;5;28mself\u001B[39m\u001B[38;5;241m.\u001B[39mdropout2(x)\n\u001B[0;32m    110\u001B[0m x \u001B[38;5;241m=\u001B[39m \u001B[38;5;28mself\u001B[39m\u001B[38;5;241m.\u001B[39mcnn2(x)\n\u001B[1;32m--> 111\u001B[0m x \u001B[38;5;241m+\u001B[39m\u001B[38;5;241m=\u001B[39m residual\n\u001B[0;32m    112\u001B[0m \u001B[38;5;28;01mreturn\u001B[39;00m x\n",
      "\u001B[1;31mKeyboardInterrupt\u001B[0m: "
     ]
    }
   ],
   "source": [
    "run_phase(\"PhaseThree\", PhaseThreeModel.PhaseThreeModel, config=Config(wandb_init=False))"
   ],
   "metadata": {
    "collapsed": false,
    "ExecuteTime": {
     "end_time": "2023-08-21T17:52:10.909112400Z",
     "start_time": "2023-08-21T17:43:38.921722500Z"
    }
   }
  },
  {
   "cell_type": "code",
   "execution_count": null,
   "outputs": [],
   "source": [],
   "metadata": {
    "collapsed": false,
    "ExecuteTime": {
     "start_time": "2023-08-21T17:52:10.877854100Z"
    }
   }
  }
 ],
 "metadata": {
  "kernelspec": {
   "display_name": "Python 3",
   "language": "python",
   "name": "python3"
  },
  "language_info": {
   "codemirror_mode": {
    "name": "ipython",
    "version": 2
   },
   "file_extension": ".py",
   "mimetype": "text/x-python",
   "name": "python",
   "nbconvert_exporter": "python",
   "pygments_lexer": "ipython2",
   "version": "2.7.6"
  }
 },
 "nbformat": 4,
 "nbformat_minor": 0
}
