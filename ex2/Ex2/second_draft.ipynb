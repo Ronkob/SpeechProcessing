{
 "cells": [
  {
   "cell_type": "code",
   "execution_count": 1,
   "outputs": [],
   "source": [
    "import json\n",
    "import os\n",
    "import pickle\n",
    "from abc import abstractmethod\n",
    "\n",
    "import librosa as librosa\n",
    "import pandas as pd\n",
    "import torch\n",
    "from enum import Enum\n",
    "import typing as tp\n",
    "from dataclasses import dataclass\n",
    "import numpy as np\n",
    "import torchaudio\n",
    "from sklearn.metrics import accuracy_score\n",
    "import sklearn\n",
    "from torch.nn.functional import cross_entropy\n",
    "from sklearn.model_selection import train_test_split\n",
    "from ex2.Ex2.genre_classifier import Genre\n",
    "import json\n",
    "import pandas as pd\n",
    "import librosa\n",
    "from multiprocessing import Pool\n",
    "ROOT = \"\"\n"
   ],
   "metadata": {
    "collapsed": false,
    "ExecuteTime": {
     "end_time": "2023-05-22T19:10:50.973347Z",
     "start_time": "2023-05-22T19:10:47.597799500Z"
    }
   }
  },
  {
   "cell_type": "code",
   "execution_count": 78,
   "outputs": [],
   "source": [
    "import numpy as np\n",
    "import librosa\n",
    "\n",
    "def extract_features(wavs):\n",
    "    all_features = []\n",
    "\n",
    "    for wav in wavs:\n",
    "        # Calculate MFCC\n",
    "        mfccs = librosa.feature.mfcc(y=wav, sr=22050, n_mfcc=13)\n",
    "\n",
    "        # Calculate spectral contrast\n",
    "        spectral_contrast = librosa.feature.spectral_contrast(y=wav, sr=22050)\n",
    "\n",
    "        # Calculate chroma features\n",
    "        chroma_stft = librosa.feature.chroma_stft(y=wav, sr=22050)\n",
    "\n",
    "        # Calculate tonnetz\n",
    "        tonnetz = librosa.feature.tonnetz(y=librosa.effects.harmonic(wav), sr=22050)\n",
    "\n",
    "        # Stack and transpose for correct dimensions\n",
    "        features = np.vstack([mfccs, spectral_contrast, chroma_stft, tonnetz]).T\n",
    "\n",
    "        # Calculate mean and standard deviation for each feature\n",
    "        feature_stats = np.hstack([np.mean(features, axis=0), np.std(features, axis=0)])\n",
    "\n",
    "        all_features.append(feature_stats)\n",
    "\n",
    "    return np.array(all_features)\n",
    "\n",
    "def softmax(z):\n",
    "    e_z = torch.exp(z - torch.max(z))\n",
    "    return e_z / e_z.sum(axis=1, keepdims=True)\n",
    "\n",
    "class LogisticRegressor:\n",
    "    def __init__(self, input_dim, num_classes):\n",
    "        self.weights = torch.random.randn(input_dim, num_classes)\n",
    "        self.bias = torch.random.randn(num_classes)\n",
    "\n",
    "    def forward(self, feats):\n",
    "        z = torch.mm(feats, self.weights) + self.bias\n",
    "        return softmax(z)\n",
    "\n",
    "    def compute_gradients(self, feats, output_scores, labels):\n",
    "        num_samples = feats.shape[0]\n",
    "        output_scores[range(num_samples), labels] -= 1\n",
    "        output_scores /= num_samples\n",
    "\n",
    "        grad_weights = torch.mm(feats.T, output_scores)\n",
    "        grad_bias = torch.sum(output_scores, dim=0)\n",
    "\n",
    "        return grad_weights, grad_bias\n",
    "\n",
    "    def update_weights(self, grad_weights, grad_bias, lr):\n",
    "        self.weights -= lr * grad_weights\n",
    "        self.bias -= lr * grad_bias\n",
    "\n",
    "    def train(self, feats, labels, epochs=100, lr=0.01):\n",
    "        for epoch in range(epochs):\n",
    "            print(f\"Epoch: {epoch}\")\n",
    "            output_scores = self.forward(feats)\n",
    "\n",
    "            grad_weights, grad_bias = self.compute_gradients(feats, output_scores.copy(), labels)\n",
    "\n",
    "            self.update_weights(grad_weights, grad_bias, lr)\n",
    "            # print output scores and loss\n",
    "            if epoch % 1 == 0:\n",
    "                loss = cross_entropy(output_scores, labels)\n",
    "                print(f\"Epoch: {epoch}, Loss: {loss}\")\n",
    "\n",
    "    def predict(self, feats):\n",
    "        output_scores = self.forward(feats)\n",
    "        return torch.argmax(output_scores, dim=1)\n",
    "\n",
    "def train_and_test_model(wavs, labels, features=None, epochs=100, lr=0.01):\n",
    "    # extract features\n",
    "    if features is None:\n",
    "        features = extract_features(wavs)\n",
    "\n",
    "    # normalize features\n",
    "    features = (features - np.mean(features, axis=0)) / np.std(features, axis=0)\n",
    "\n",
    "    # split the data into train and test sets\n",
    "    X_train, X_test, y_train, y_test = train_test_split(features, labels, test_size=0.2, random_state=42)\n",
    "\n",
    "    # create and train the model\n",
    "    model = LogisticRegressor(X_train.shape[1], len(np.unique(labels)))\n",
    "    model.train(X_train, y_train, epochs, lr)\n",
    "\n",
    "    # test the model\n",
    "    predictions = model.predict(X_test)\n",
    "    accuracy = np.mean(predictions == y_test)\n",
    "    print(f\"Test accuracy: {accuracy * 100:.2f}%\")\n",
    "\n",
    "    return model\n"
   ],
   "metadata": {
    "collapsed": false,
    "ExecuteTime": {
     "end_time": "2023-05-22T19:44:31.858902900Z",
     "start_time": "2023-05-22T19:44:31.845996Z"
    }
   }
  },
  {
   "cell_type": "code",
   "execution_count": 43,
   "outputs": [],
   "source": [
    "\n",
    "# Function to load a single wave file\n",
    "def load_wav_file(item):\n",
    "    path = item['path']\n",
    "    label = item['label']\n",
    "    label = str.replace(label, '-', '_')\n",
    "    label = Genre[label.upper()].value\n",
    "    audio, sr = librosa.load(path, sr=None)\n",
    "    return label, audio, sr\n",
    "\n",
    "def load_wav_files_parallel(json_file_path):\n",
    "    # Read the JSON file\n",
    "    with open(json_file_path) as json_file:\n",
    "        data = json.load(json_file)\n",
    "\n",
    "    # Use a multiprocessing Pool to load the wave files in parallel\n",
    "    with Pool() as p:\n",
    "        results = p.map(load_wav_file, data)\n",
    "\n",
    "    # Create a DataFrame from the results\n",
    "    df = pd.DataFrame(results, columns=['label', 'audio', 'sr'])\n",
    "\n",
    "    df = df.sample(frac=1).reset_index(drop=True)\n",
    "    return df\n",
    "\n",
    "def load_wav_files(json_file_path):\n",
    "    # Read the JSON file\n",
    "    with open(json_file_path) as json_file:\n",
    "        data = json.load(json_file)\n",
    "\n",
    "    # Create an empty DataFrame\n",
    "    df = pd.DataFrame(columns=['label', 'audio', 'sr'])\n",
    "\n",
    "    # Iterate over first 50 items in the JSON data\n",
    "    for item in data:\n",
    "        path = item['path']\n",
    "        label = item['label']\n",
    "        label = str.replace(label, '-', '_')\n",
    "        label = Genre[label.upper()].value\n",
    "        # Load the audio file using librosa\n",
    "        audio, sr = librosa.load(path, sr=None)\n",
    "\n",
    "        # Append the path, label, and audio to the DataFrameu78yt6r5fe4\n",
    "        df = df.append({'label': label, 'audio': audio, 'sr': sr}, ignore_index=True)\n",
    "\n",
    "    df = df.sample(frac=1).reset_index(drop=True)\n",
    "    return df"
   ],
   "metadata": {
    "collapsed": false,
    "ExecuteTime": {
     "end_time": "2023-05-22T19:28:17.275273700Z",
     "start_time": "2023-05-22T19:28:17.253545500Z"
    }
   }
  },
  {
   "cell_type": "code",
   "execution_count": 10,
   "outputs": [],
   "source": [
    "train_data = load_wav_files(ROOT + 'jsons/train.json')"
   ],
   "metadata": {
    "collapsed": false,
    "ExecuteTime": {
     "end_time": "2023-05-22T19:13:02.089014500Z",
     "start_time": "2023-05-22T19:12:51.163763Z"
    }
   }
  },
  {
   "cell_type": "code",
   "execution_count": 5,
   "outputs": [],
   "source": [
    "test_data = load_wav_files(ROOT + 'jsons/test.json')"
   ],
   "metadata": {
    "collapsed": false,
    "ExecuteTime": {
     "end_time": "2023-05-22T19:11:44.058470200Z",
     "start_time": "2023-05-22T19:11:41.859681600Z"
    }
   }
  },
  {
   "cell_type": "code",
   "execution_count": 62,
   "outputs": [],
   "source": [
    "data = np.array(train_data['audio'])\n",
    "labels = np.array(train_data['label'], dtype=int)"
   ],
   "metadata": {
    "collapsed": false,
    "ExecuteTime": {
     "end_time": "2023-05-22T19:37:41.472960500Z",
     "start_time": "2023-05-22T19:37:41.450925Z"
    }
   }
  },
  {
   "cell_type": "code",
   "execution_count": 16,
   "outputs": [],
   "source": [
    "def exctract_feats(wavs: torch.Tensor):\n",
    "    \"\"\"\n",
    "    this function extract features from a given audio.\n",
    "    we will not be observing this method.\n",
    "    \"\"\"\n",
    "    ## features extraction\n",
    "    features_list = []\n",
    "    batch_size = wavs.size()[0]\n",
    "    data = wavs.numpy()\n",
    "    # first family - crossing rate\n",
    "    zero_crossing_rate = librosa.feature.zero_crossing_rate(y=data)\n",
    "    avg_zero_crossing_rate = np.mean(zero_crossing_rate, axis=(1, 2))\n",
    "    std_zero_crossing_rate = np.std(zero_crossing_rate, axis=(1, 2))\n",
    "    features_list.append(torch.tensor(avg_zero_crossing_rate, dtype=torch.float32).view(batch_size, 1))\n",
    "    features_list.append(torch.tensor(std_zero_crossing_rate, dtype=torch.float32).view(batch_size, 1))\n",
    "    # print(\"zero crossing rate: \", zero_crossing_rate.shape, avg_zero_crossing_rate.shape,\n",
    "    #       std_zero_crossing_rate.shape)\n",
    "\n",
    "    # second family - spectral\n",
    "    spectral_centroid = librosa.feature.spectral_centroid(y=data)\n",
    "    avg_spectral_centroid = np.mean(spectral_centroid, axis=(1, 2))\n",
    "    std_spectral_centroid = np.std(spectral_centroid, axis=(1, 2))\n",
    "    # print(\"spectral centroid: \", spectral_centroid.shape, avg_spectral_centroid.shape,\n",
    "    #       std_spectral_centroid.shape)\n",
    "    features_list.append(torch.tensor(avg_spectral_centroid, dtype=torch.float32).view(batch_size, 1))\n",
    "    features_list.append(torch.tensor(std_spectral_centroid, dtype=torch.float32).view(batch_size, 1))\n",
    "\n",
    "    # third family - spectral contrast\n",
    "    # spectral_contrast = librosa.feature.spectral_contrast(y=data)\n",
    "    # avg_spectral_contrast = np.mean(spectral_contrast, axis=(1, 2))\n",
    "    # std_spectral_contrast = np.std(spectral_contrast, axis=(1, 2))\n",
    "    # # print(\"spectral contrast: \", spectral_contrast.shape, avg_spectral_contrast.shape,\n",
    "    # #       std_spectral_contrast.shape)\n",
    "    # features_list.append(torch.tensor(avg_spectral_contrast, dtype=torch.float32).view(batch_size, 1))\n",
    "    # features_list.append(torch.tensor(std_spectral_contrast, dtype=torch.float32).view(batch_size, 1))\n",
    "\n",
    "    # forth family - log RMS\n",
    "    log_rms = librosa.feature.rms(y=librosa.amplitude_to_db(abs(data)))\n",
    "    avg_log_rms = np.mean(log_rms, axis=(1, 2))\n",
    "    std_log_rms = np.std(log_rms, axis=(1, 2))\n",
    "    # print(\"log RMS: \", log_rms.shape, avg_log_rms.shape, std_log_rms.shape)\n",
    "    features_list.append(torch.tensor(avg_log_rms, dtype=torch.float32).view(batch_size, 1))\n",
    "    features_list.append(torch.tensor(std_log_rms, dtype=torch.float32).view(batch_size, 1))\n",
    "\n",
    "    # # fifth family MFCC features\n",
    "    mfcc = librosa.feature.mfcc(y=data, n_mfcc=13)\n",
    "    # Padding first and second deltas\n",
    "    delta_mfcc = librosa.feature.delta(mfcc)\n",
    "    delta2_mfcc = librosa.feature.delta(mfcc, order=2)\n",
    "    zero_order_mfcc = np.mean(mfcc, axis=2)\n",
    "    first_order_mfcc = np.mean(delta_mfcc, axis=2)\n",
    "    second_order_mfcc = np.mean(delta2_mfcc, axis=2)\n",
    "\n",
    "    # print(\"MFCC: \", mfcc.shape, zero_order_mfcc.shape, first_order_mfcc.shape, second_order_mfcc.shape)\n",
    "    features_list.append(torch.tensor(zero_order_mfcc, dtype=torch.float32).view(batch_size, 13))\n",
    "    features_list.append(torch.tensor(first_order_mfcc, dtype=torch.float32).view(batch_size, 13))\n",
    "    features_list.append(torch.tensor(second_order_mfcc, dtype=torch.float32).view(batch_size, 13))\n",
    "\n",
    "    # sixth family - chroma\n",
    "    # chroma = librosa.feature.chroma_stft(y=data)\n",
    "    # avg_chroma = np.mean(chroma, axis=(1, 2))\n",
    "    # std_chroma = np.std(chroma, axis=(1, 2))\n",
    "    # # print(\"chroma: \", chroma.shape, avg_chroma.shape, std_chroma.shape)\n",
    "    # features_list.append(torch.tensor(avg_chroma, dtype=torch.float32).view(batch_size, 1))\n",
    "    # features_list.append(torch.tensor(std_chroma, dtype=torch.float32).view(batch_size, 1))\n",
    "\n",
    "    # seventh family - tonnetz\n",
    "    # tonnetz = librosa.feature.tonnetz(y=data)\n",
    "    # avg_tonnetz = np.mean(tonnetz, axis=(1, 2))\n",
    "    # std_tonnetz = np.std(tonnetz, axis=(1, 2))\n",
    "    # # print(\"tonnetz: \", tonnetz.shape, avg_tonnetz.shape, std_tonnetz.shape)\n",
    "    # features_list.append(torch.tensor(avg_tonnetz, dtype=torch.float32).view(batch_size, 1))\n",
    "    # features_list.append(torch.tensor(std_tonnetz, dtype=torch.float32).view(batch_size, 1))\n",
    "\n",
    "    # eigth - spectral flatness, rolloff, bandwidth\n",
    "    spectral_flatness = librosa.feature.spectral_flatness(y=data)\n",
    "    avg_spectral_flatness = np.mean(spectral_flatness, axis=(1, 2))\n",
    "    std_spectral_flatness = np.std(spectral_flatness, axis=(1, 2))\n",
    "    # print(\"spectral flatness: \", spectral_flatness.shape, avg_spectral_flatness.shape,\n",
    "    #       std_spectral_flatness.shape)\n",
    "    features_list.append(torch.tensor(avg_spectral_flatness, dtype=torch.float32).view(batch_size, 1))\n",
    "    features_list.append(torch.tensor(std_spectral_flatness, dtype=torch.float32).view(batch_size, 1))\n",
    "\n",
    "    spectral_rolloff = librosa.feature.spectral_rolloff(y=data)\n",
    "    avg_spectral_rolloff = np.mean(spectral_rolloff, axis=(1, 2))\n",
    "    std_spectral_rolloff = np.std(spectral_rolloff, axis=(1, 2))\n",
    "    # print(\"spectral rolloff: \", spectral_rolloff.shape, avg_spectral_rolloff.shape,\n",
    "    #       std_spectral_rolloff.shape)\n",
    "    features_list.append(torch.tensor(avg_spectral_rolloff, dtype=torch.float32).view(batch_size, 1))\n",
    "    features_list.append(torch.tensor(std_spectral_rolloff, dtype=torch.float32).view(batch_size, 1))\n",
    "\n",
    "    spectral_bandwidth = librosa.feature.spectral_bandwidth(y=data)\n",
    "    avg_spectral_bandwidth = np.mean(spectral_bandwidth, axis=(1, 2))\n",
    "    std_spectral_bandwidth = np.std(spectral_bandwidth, axis=(1, 2))\n",
    "    # print(\"spectral bandwidth: \", spectral_bandwidth.shape, avg_spectral_bandwidth.shape,\n",
    "    #       std_spectral_bandwidth.shape)\n",
    "    features_list.append(torch.tensor(avg_spectral_bandwidth, dtype=torch.float32).view(batch_size, 1))\n",
    "    features_list.append(torch.tensor(std_spectral_bandwidth, dtype=torch.float32).view(batch_size, 1))\n",
    "\n",
    "\n",
    "    features = torch.cat(features_list, dim=1)\n",
    "\n",
    "    return features"
   ],
   "metadata": {
    "collapsed": false,
    "ExecuteTime": {
     "end_time": "2023-05-22T19:16:06.897490700Z",
     "start_time": "2023-05-22T19:16:06.874674700Z"
    }
   }
  },
  {
   "cell_type": "code",
   "execution_count": 49,
   "outputs": [],
   "source": [
    "def exctract_features_batch(wavs, batch_size):# extract features by batches\n",
    "    for batch in range(0, len(wavs), batch_size):\n",
    "        print(\"batch: \", batch)\n",
    "        batch_data = wavs[batch:batch + batch_size]\n",
    "        batch_features = exctract_feats(batch_data)\n",
    "        if batch == 0:\n",
    "            features = batch_features\n",
    "        else:\n",
    "            features = torch.cat((features, batch_features), dim=0)\n",
    "        print(\"features: \", features.shape)\n",
    "    return features"
   ],
   "metadata": {
    "collapsed": false,
    "ExecuteTime": {
     "end_time": "2023-05-22T19:32:01.061187200Z",
     "start_time": "2023-05-22T19:32:01.041376200Z"
    }
   }
  },
  {
   "cell_type": "code",
   "execution_count": 40,
   "outputs": [],
   "source": [
    "n_data = np.asarray(data.tolist())\n",
    "t_data = torch.tensor(n_data, dtype=torch.float32)"
   ],
   "metadata": {
    "collapsed": false,
    "ExecuteTime": {
     "end_time": "2023-05-22T19:24:26.871218700Z",
     "start_time": "2023-05-22T19:24:25.107115700Z"
    }
   }
  },
  {
   "cell_type": "code",
   "execution_count": 51,
   "outputs": [
    {
     "name": "stdout",
     "output_type": "stream",
     "text": [
      "batch:  0\n",
      "features:  torch.Size([100, 51])\n",
      "batch:  100\n",
      "features:  torch.Size([200, 51])\n"
     ]
    }
   ],
   "source": [
    "features = exctract_features_batch(t_data[:200], 100)"
   ],
   "metadata": {
    "collapsed": false,
    "ExecuteTime": {
     "end_time": "2023-05-22T19:33:02.054101700Z",
     "start_time": "2023-05-22T19:32:24.393671600Z"
    }
   }
  },
  {
   "cell_type": "markdown",
   "source": [],
   "metadata": {
    "collapsed": false
   }
  },
  {
   "cell_type": "code",
   "execution_count": 155,
   "outputs": [
    {
     "data": {
      "text/plain": "(51,)"
     },
     "execution_count": 155,
     "metadata": {},
     "output_type": "execute_result"
    }
   ],
   "source": [
    "features.shape"
   ],
   "metadata": {
    "collapsed": false,
    "ExecuteTime": {
     "end_time": "2023-05-22T20:47:34.727927100Z",
     "start_time": "2023-05-22T20:47:34.699754400Z"
    }
   }
  },
  {
   "cell_type": "code",
   "execution_count": 80,
   "outputs": [
    {
     "ename": "AttributeError",
     "evalue": "module 'torch.random' has no attribute 'randn'",
     "output_type": "error",
     "traceback": [
      "\u001B[1;31m---------------------------------------------------------------------------\u001B[0m",
      "\u001B[1;31mAttributeError\u001B[0m                            Traceback (most recent call last)",
      "Input \u001B[1;32mIn [80]\u001B[0m, in \u001B[0;36m<cell line: 1>\u001B[1;34m()\u001B[0m\n\u001B[1;32m----> 1\u001B[0m train_and_test_model(n_data[:\u001B[38;5;241m20\u001B[39m], labels[:\u001B[38;5;241m20\u001B[39m], features[:\u001B[38;5;241m20\u001B[39m]\u001B[38;5;241m.\u001B[39mnumpy())\n",
      "Input \u001B[1;32mIn [78]\u001B[0m, in \u001B[0;36mtrain_and_test_model\u001B[1;34m(wavs, labels, features, epochs, lr)\u001B[0m\n\u001B[0;32m     83\u001B[0m X_train, X_test, y_train, y_test \u001B[38;5;241m=\u001B[39m train_test_split(features, labels, test_size\u001B[38;5;241m=\u001B[39m\u001B[38;5;241m0.2\u001B[39m, random_state\u001B[38;5;241m=\u001B[39m\u001B[38;5;241m42\u001B[39m)\n\u001B[0;32m     85\u001B[0m \u001B[38;5;66;03m# create and train the model\u001B[39;00m\n\u001B[1;32m---> 86\u001B[0m model \u001B[38;5;241m=\u001B[39m \u001B[43mLogisticRegressor\u001B[49m\u001B[43m(\u001B[49m\u001B[43mX_train\u001B[49m\u001B[38;5;241;43m.\u001B[39;49m\u001B[43mshape\u001B[49m\u001B[43m[\u001B[49m\u001B[38;5;241;43m1\u001B[39;49m\u001B[43m]\u001B[49m\u001B[43m,\u001B[49m\u001B[43m \u001B[49m\u001B[38;5;28;43mlen\u001B[39;49m\u001B[43m(\u001B[49m\u001B[43mnp\u001B[49m\u001B[38;5;241;43m.\u001B[39;49m\u001B[43munique\u001B[49m\u001B[43m(\u001B[49m\u001B[43mlabels\u001B[49m\u001B[43m)\u001B[49m\u001B[43m)\u001B[49m\u001B[43m)\u001B[49m\n\u001B[0;32m     87\u001B[0m model\u001B[38;5;241m.\u001B[39mtrain(X_train, y_train, epochs, lr)\n\u001B[0;32m     89\u001B[0m \u001B[38;5;66;03m# test the model\u001B[39;00m\n",
      "Input \u001B[1;32mIn [78]\u001B[0m, in \u001B[0;36mLogisticRegressor.__init__\u001B[1;34m(self, input_dim, num_classes)\u001B[0m\n\u001B[0;32m     35\u001B[0m \u001B[38;5;28;01mdef\u001B[39;00m \u001B[38;5;21m__init__\u001B[39m(\u001B[38;5;28mself\u001B[39m, input_dim, num_classes):\n\u001B[1;32m---> 36\u001B[0m     \u001B[38;5;28mself\u001B[39m\u001B[38;5;241m.\u001B[39mweights \u001B[38;5;241m=\u001B[39m \u001B[43mtorch\u001B[49m\u001B[38;5;241;43m.\u001B[39;49m\u001B[43mrandom\u001B[49m\u001B[38;5;241;43m.\u001B[39;49m\u001B[43mrandn\u001B[49m(input_dim, num_classes)\n\u001B[0;32m     37\u001B[0m     \u001B[38;5;28mself\u001B[39m\u001B[38;5;241m.\u001B[39mbias \u001B[38;5;241m=\u001B[39m torch\u001B[38;5;241m.\u001B[39mrandom\u001B[38;5;241m.\u001B[39mrandn(num_classes)\n",
      "\u001B[1;31mAttributeError\u001B[0m: module 'torch.random' has no attribute 'randn'"
     ]
    }
   ],
   "source": [
    "train_and_test_model(n_data[:20], labels[:20], features[:20].numpy())"
   ],
   "metadata": {
    "collapsed": false,
    "ExecuteTime": {
     "end_time": "2023-05-22T19:44:39.469725Z",
     "start_time": "2023-05-22T19:44:39.225909300Z"
    }
   }
  },
  {
   "cell_type": "code",
   "execution_count": 146,
   "outputs": [],
   "source": [
    "class LogisticRegressor:\n",
    "    def __init__(self, input_dim: int, num_classes: int):\n",
    "        self.weights = torch.randn(input_dim, num_classes, requires_grad=True)\n",
    "        self.bias = torch.randn(num_classes, requires_grad=True)\n",
    "\n",
    "    def forward(self, feats: torch.Tensor) -> torch.Tensor:\n",
    "        return torch.mm(feats, self.weights) + self.bias\n",
    "\n",
    "    def backward(self, feats: torch.Tensor, output_scores: torch.Tensor, labels: torch.Tensor):\n",
    "        loss = torch.nn.functional.cross_entropy(output_scores, labels)\n",
    "        loss.backward()\n",
    "\n",
    "        with torch.no_grad():\n",
    "            self.weights -= 0.01 * self.weights.grad\n",
    "            self.bias -= 0.01 * self.bias.grad\n",
    "\n",
    "            # zero the gradients after updating\n",
    "            self.weights.grad.zero_()\n",
    "            self.bias.grad.zero_()\n",
    "\n",
    "    def extract_feats(self, wavs: torch.Tensor):\n",
    "        # insert your feature extraction logic here\n",
    "        pass\n",
    "\n",
    "\n",
    "from sklearn.model_selection import train_test_split\n",
    "import torch\n",
    "\n",
    "\n",
    "def train_and_test_model(features: np.ndarray, labels: np.ndarray, epochs = 100):\n",
    "    # convert features and labels to torch tensors\n",
    "    features = torch.tensor(features, dtype=torch.float32)\n",
    "    labels = torch.tensor(labels, dtype=torch.long)\n",
    "\n",
    "    # split the features and labels into a training set and a testing set\n",
    "    X_train, X_test, y_train, y_test = train_test_split(features, labels, test_size=0.2, random_state=42)\n",
    "    print(y_train.shape)\n",
    "    # get the number of features from the feature data\n",
    "    input_dim = X_train.shape[1]\n",
    "\n",
    "    # get the number of unique classes from the labels\n",
    "    num_classes = len(torch.unique(labels))\n",
    "\n",
    "    # create the model\n",
    "    model = LogisticRegressor(input_dim, num_classes)\n",
    "\n",
    "    # training loop\n",
    "    print(epochs)\n",
    "    for epoch in range(epochs):\n",
    "        # forward pass\n",
    "        output_scores = model.forward(X_train)\n",
    "\n",
    "        # backward pass and optimization\n",
    "        model.backward(X_train, output_scores, y_train)\n",
    "\n",
    "        # print loss every 10 epochs\n",
    "        if (epoch + 1) % 10 == 0:\n",
    "            loss = torch.nn.functional.cross_entropy(output_scores, y_train)\n",
    "            print(f'Epoch {epoch + 1}/{epochs}, Loss: {loss.item()}')\n",
    "\n",
    "    # testing the model\n",
    "    test_output_scores = model.forward(X_test)\n",
    "    _, predicted = torch.max(test_output_scores.data, 1)\n",
    "    correct = (predicted == y_test).sum().item()\n",
    "    test_accuracy = correct / len(y_test)\n",
    "    print(f'Test accuracy: {test_accuracy * 100:.2f}%')\n",
    "\n",
    "    return model\n"
   ],
   "metadata": {
    "collapsed": false,
    "ExecuteTime": {
     "end_time": "2023-05-22T20:45:21.392012300Z",
     "start_time": "2023-05-22T20:45:21.236747900Z"
    }
   }
  },
  {
   "cell_type": "code",
   "execution_count": 154,
   "outputs": [
    {
     "ename": "ValueError",
     "evalue": "Found input variables with inconsistent numbers of samples: [51, 100]",
     "output_type": "error",
     "traceback": [
      "\u001B[1;31m---------------------------------------------------------------------------\u001B[0m",
      "\u001B[1;31mValueError\u001B[0m                                Traceback (most recent call last)",
      "Input \u001B[1;32mIn [154]\u001B[0m, in \u001B[0;36m<cell line: 1>\u001B[1;34m()\u001B[0m\n\u001B[1;32m----> 1\u001B[0m model \u001B[38;5;241m=\u001B[39m train_and_test_model(features[:\u001B[38;5;241m100\u001B[39m], labels[:\u001B[38;5;241m100\u001B[39m], \u001B[38;5;241m100\u001B[39m)\n",
      "Input \u001B[1;32mIn [146]\u001B[0m, in \u001B[0;36mtrain_and_test_model\u001B[1;34m(features, labels, epochs)\u001B[0m\n\u001B[0;32m     33\u001B[0m labels \u001B[38;5;241m=\u001B[39m torch\u001B[38;5;241m.\u001B[39mtensor(labels, dtype\u001B[38;5;241m=\u001B[39mtorch\u001B[38;5;241m.\u001B[39mlong)\n\u001B[0;32m     35\u001B[0m \u001B[38;5;66;03m# split the features and labels into a training set and a testing set\u001B[39;00m\n\u001B[1;32m---> 36\u001B[0m X_train, X_test, y_train, y_test \u001B[38;5;241m=\u001B[39m \u001B[43mtrain_test_split\u001B[49m\u001B[43m(\u001B[49m\u001B[43mfeatures\u001B[49m\u001B[43m,\u001B[49m\u001B[43m \u001B[49m\u001B[43mlabels\u001B[49m\u001B[43m,\u001B[49m\u001B[43m \u001B[49m\u001B[43mtest_size\u001B[49m\u001B[38;5;241;43m=\u001B[39;49m\u001B[38;5;241;43m0.2\u001B[39;49m\u001B[43m,\u001B[49m\u001B[43m \u001B[49m\u001B[43mrandom_state\u001B[49m\u001B[38;5;241;43m=\u001B[39;49m\u001B[38;5;241;43m42\u001B[39;49m\u001B[43m)\u001B[49m\n\u001B[0;32m     37\u001B[0m \u001B[38;5;28mprint\u001B[39m(y_train\u001B[38;5;241m.\u001B[39mshape)\n\u001B[0;32m     38\u001B[0m \u001B[38;5;66;03m# get the number of features from the feature data\u001B[39;00m\n",
      "File \u001B[1;32mc:\\python38\\lib\\site-packages\\sklearn\\model_selection\\_split.py:2559\u001B[0m, in \u001B[0;36mtrain_test_split\u001B[1;34m(test_size, train_size, random_state, shuffle, stratify, *arrays)\u001B[0m\n\u001B[0;32m   2556\u001B[0m \u001B[38;5;28;01mif\u001B[39;00m n_arrays \u001B[38;5;241m==\u001B[39m \u001B[38;5;241m0\u001B[39m:\n\u001B[0;32m   2557\u001B[0m     \u001B[38;5;28;01mraise\u001B[39;00m \u001B[38;5;167;01mValueError\u001B[39;00m(\u001B[38;5;124m\"\u001B[39m\u001B[38;5;124mAt least one array required as input\u001B[39m\u001B[38;5;124m\"\u001B[39m)\n\u001B[1;32m-> 2559\u001B[0m arrays \u001B[38;5;241m=\u001B[39m \u001B[43mindexable\u001B[49m\u001B[43m(\u001B[49m\u001B[38;5;241;43m*\u001B[39;49m\u001B[43marrays\u001B[49m\u001B[43m)\u001B[49m\n\u001B[0;32m   2561\u001B[0m n_samples \u001B[38;5;241m=\u001B[39m _num_samples(arrays[\u001B[38;5;241m0\u001B[39m])\n\u001B[0;32m   2562\u001B[0m n_train, n_test \u001B[38;5;241m=\u001B[39m _validate_shuffle_split(\n\u001B[0;32m   2563\u001B[0m     n_samples, test_size, train_size, default_test_size\u001B[38;5;241m=\u001B[39m\u001B[38;5;241m0.25\u001B[39m\n\u001B[0;32m   2564\u001B[0m )\n",
      "File \u001B[1;32mc:\\python38\\lib\\site-packages\\sklearn\\utils\\validation.py:443\u001B[0m, in \u001B[0;36mindexable\u001B[1;34m(*iterables)\u001B[0m\n\u001B[0;32m    424\u001B[0m \u001B[38;5;124;03m\"\"\"Make arrays indexable for cross-validation.\u001B[39;00m\n\u001B[0;32m    425\u001B[0m \n\u001B[0;32m    426\u001B[0m \u001B[38;5;124;03mChecks consistent length, passes through None, and ensures that everything\u001B[39;00m\n\u001B[1;32m   (...)\u001B[0m\n\u001B[0;32m    439\u001B[0m \u001B[38;5;124;03m    sparse matrix, or dataframe) or `None`.\u001B[39;00m\n\u001B[0;32m    440\u001B[0m \u001B[38;5;124;03m\"\"\"\u001B[39;00m\n\u001B[0;32m    442\u001B[0m result \u001B[38;5;241m=\u001B[39m [_make_indexable(X) \u001B[38;5;28;01mfor\u001B[39;00m X \u001B[38;5;129;01min\u001B[39;00m iterables]\n\u001B[1;32m--> 443\u001B[0m \u001B[43mcheck_consistent_length\u001B[49m\u001B[43m(\u001B[49m\u001B[38;5;241;43m*\u001B[39;49m\u001B[43mresult\u001B[49m\u001B[43m)\u001B[49m\n\u001B[0;32m    444\u001B[0m \u001B[38;5;28;01mreturn\u001B[39;00m result\n",
      "File \u001B[1;32mc:\\python38\\lib\\site-packages\\sklearn\\utils\\validation.py:397\u001B[0m, in \u001B[0;36mcheck_consistent_length\u001B[1;34m(*arrays)\u001B[0m\n\u001B[0;32m    395\u001B[0m uniques \u001B[38;5;241m=\u001B[39m np\u001B[38;5;241m.\u001B[39munique(lengths)\n\u001B[0;32m    396\u001B[0m \u001B[38;5;28;01mif\u001B[39;00m \u001B[38;5;28mlen\u001B[39m(uniques) \u001B[38;5;241m>\u001B[39m \u001B[38;5;241m1\u001B[39m:\n\u001B[1;32m--> 397\u001B[0m     \u001B[38;5;28;01mraise\u001B[39;00m \u001B[38;5;167;01mValueError\u001B[39;00m(\n\u001B[0;32m    398\u001B[0m         \u001B[38;5;124m\"\u001B[39m\u001B[38;5;124mFound input variables with inconsistent numbers of samples: \u001B[39m\u001B[38;5;132;01m%r\u001B[39;00m\u001B[38;5;124m\"\u001B[39m\n\u001B[0;32m    399\u001B[0m         \u001B[38;5;241m%\u001B[39m [\u001B[38;5;28mint\u001B[39m(l) \u001B[38;5;28;01mfor\u001B[39;00m l \u001B[38;5;129;01min\u001B[39;00m lengths]\n\u001B[0;32m    400\u001B[0m     )\n",
      "\u001B[1;31mValueError\u001B[0m: Found input variables with inconsistent numbers of samples: [51, 100]"
     ]
    }
   ],
   "source": [
    "model = train_and_test_model(features[:100], labels[:100], 100)"
   ],
   "metadata": {
    "collapsed": false,
    "ExecuteTime": {
     "end_time": "2023-05-22T20:47:23.624825400Z",
     "start_time": "2023-05-22T20:47:23.510026400Z"
    }
   }
  },
  {
   "cell_type": "code",
   "execution_count": 145,
   "outputs": [
    {
     "data": {
      "text/plain": "<Figure size 720x432 with 1 Axes>",
      "image/png": "[encoded data removed]"
     },
     "metadata": {
      "needs_background": "light"
     },
     "output_type": "display_data"
    }
   ],
   "source": [
    "import matplotlib.pyplot as plt\n",
    "\n",
    "# Assuming that your trained model is 'model'\n",
    "# and your features are ['MFCC', 'Spectral contrast', 'Chroma features', 'Tonnetz']\n",
    "\n",
    "# Extract weights\n",
    "weights = model.weights.detach().numpy()\n",
    "\n",
    "# Average weights across output classes\n",
    "average_weights = np.mean(weights, axis=1)\n",
    "\n",
    "# Feature names\n",
    "features = np.arange(0, 51)\n",
    "\n",
    "plt.figure(figsize=(10, 6))\n",
    "plt.bar(features, abs(average_weights))\n",
    "plt.xlabel('Features')\n",
    "plt.ylabel('Average weight')\n",
    "plt.title('Feature Importance')\n",
    "plt.show()\n",
    "\n"
   ],
   "metadata": {
    "collapsed": false,
    "ExecuteTime": {
     "end_time": "2023-05-22T19:58:19.188160600Z",
     "start_time": "2023-05-22T19:58:18.979739400Z"
    }
   }
  }
 ],
 "metadata": {
  "kernelspec": {
   "display_name": "Python 3",
   "language": "python",
   "name": "python3"
  },
  "language_info": {
   "codemirror_mode": {
    "name": "ipython",
    "version": 2
   },
   "file_extension": ".py",
   "mimetype": "text/x-python",
   "name": "python",
   "nbconvert_exporter": "python",
   "pygments_lexer": "ipython2",
   "version": "2.7.6"
  }
 },
 "nbformat": 4,
 "nbformat_minor": 0
}
